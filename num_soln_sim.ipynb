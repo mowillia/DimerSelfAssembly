{
 "cells": [
  {
   "cell_type": "markdown",
   "metadata": {},
   "source": [
    "**Self-Assembly of a Dimer System -- Companion Notebook** \n",
    "\n",
    "# Numerical Solutions and Simulations "
   ]
  },
  {
   "cell_type": "code",
   "execution_count": 1,
   "metadata": {},
   "outputs": [],
   "source": [
    "%matplotlib inline\n",
    "import numpy as np\n",
    "import matplotlib.pyplot as plt\n",
    "import warnings\n",
    "from scipy.optimize import fsolve\n",
    "from scipy.special import lambertw\n",
    "from scipy.special import comb\n",
    "from itertools import chain\n",
    "import time\n",
    "import copy\n",
    "\n",
    "from random import shuffle\n",
    "from random import randint\n",
    "runif = np.random.rand\n",
    "import random\n",
    "\n",
    "start_clock = time.time()"
   ]
  },
  {
   "cell_type": "markdown",
   "metadata": {},
   "source": [
    "### Contents\n",
    "\n",
    "**I.** Numerical Solutions to Equilibrium Conditions \n",
    "\n",
    "**II.** Monte Carlo Simulation \n",
    "\n",
    "**III.** Solutions and Simulations Together"
   ]
  },
  {
   "cell_type": "markdown",
   "metadata": {},
   "source": [
    "## I. Numerical Solution to Equilibrium Conditions "
   ]
  },
  {
   "cell_type": "markdown",
   "metadata": {},
   "source": [
    "We seek to numerically solve the equilibrium conditions \n",
    "\n",
    "\\begin{equation}\n",
    "\\frac{e^{\\beta \\Delta}}{2} = \\langle m \\rangle \\frac{N-\\langle m \\rangle(1- e^{-\\beta \\Delta})}{\\langle k \\rangle - \\langle m \\rangle(1- e^{-\\beta \\Delta})}, \\qquad  \\frac{4\\sqrt{2}\\,\\lambda_0^3}{V}\\,e^{\\beta E_0} = \\frac{\\langle k \\rangle - \\langle m \\rangle(1- e^{-\\beta \\Delta})}{\\big(N - \\langle k \\rangle\\big)^2}.\n",
    "\\end{equation}\n",
    "\n",
    "In what follows we define \n",
    "\\begin{equation}\n",
    "E_V = \\frac{h^2}{2\\pi m_0 V^{2/3}},\n",
    "\\end{equation}\n",
    "as the kinetic energy scale of a single monomer. $E_0$ is the binding energy of an incorrect dimer and $\\Delta$ is the binding energy advantage of a correct dimer. \n",
    "\n",
    "**-Definitions of $T_I$ and $T_{II}$**:\n",
    "\n",
    "\\begin{equation}\n",
    "k_BT_I = \\frac{2}{3}(E_0 + \\Delta) \\left[W_{0} \\left(\\frac{E_0 + \\Delta}{3 E_V} \\left(2N\\right)^{2/3}\\right)\\right]^{-1}+{\\cal O}\\left( N^{-1} \\right)\n",
    "\\end{equation}\n",
    "\n",
    "\\begin{equation}\n",
    "k_BT_{II} = \\frac{\\Delta}{\\ln (2N)} + {\\cal O}\\left(N^{-1}\\right)\n",
    "\\end{equation}"
   ]
  },
  {
   "cell_type": "markdown",
   "metadata": {},
   "source": [
    "#### -Equation solver, Standard deviation definition, $T_I$ and $T_{II}$ definition"
   ]
  },
  {
   "cell_type": "code",
   "execution_count": 2,
   "metadata": {},
   "outputs": [
    {
     "data": {
      "text/plain": [
       "array([0.03045014, 2.83707918])"
      ]
     },
     "execution_count": 2,
     "metadata": {},
     "output_type": "execute_result"
    }
   ],
   "source": [
    "### equation solver for the system of equations of state\n",
    "\n",
    "def myfunc(z, T, E0,Del, Ev, N):\n",
    "    \n",
    "    m = z[0]\n",
    "    k = z[1]\n",
    "    \n",
    "    F = np.ones(2)\n",
    "\n",
    "    F[0]=  m*(N-m*(1-np.exp(-Del/T))) - np.exp(Del/T)*(k-m*(1-np.exp(-Del/T)))/2\n",
    "    F[1] =  (k-m*(1-np.exp(-Del/T))) - 4*np.sqrt(2)*np.exp(E0/T)*(Ev/T)**(3/2)*(N-k)**2\n",
    "      \n",
    "    return F\n",
    "\n",
    "## testing values \n",
    "E0 =1.0\n",
    "Del = .05\n",
    "Ev = 0.001\n",
    "Nelem = 50\n",
    "fsolve(myfunc, [.05, 1.0], args = (.7, E0, Del, Ev, Nelem))"
   ]
  },
  {
   "cell_type": "code",
   "execution_count": 3,
   "metadata": {},
   "outputs": [],
   "source": [
    "# variances and covariances\n",
    "\n",
    "def sigma_k(k, N):\n",
    "    \n",
    "    return np.sqrt(1.0/(2*N)*k*(N-k))\n",
    "\n",
    "def sigma_m(k, m, N): \n",
    "    \n",
    "    return np.sqrt(m - m**2/2*(1/k + 1/N))"
   ]
  },
  {
   "cell_type": "code",
   "execution_count": 4,
   "metadata": {},
   "outputs": [],
   "source": [
    "## definition of temperature T1\n",
    "\n",
    "def kbT1(E0,Del, Ev, N):\n",
    "    \n",
    "    En = E0 + Del\n",
    "    \n",
    "    return (2*En/3)/lambertw(En/(3*Ev)*(2*N)**(2/3)).real\n",
    "\n",
    "# definition of temperature T2\n",
    "\n",
    "def kbT2(Del, N):\n",
    "    \n",
    "    return Del/np.log(2*N)"
   ]
  },
  {
   "cell_type": "code",
   "execution_count": 5,
   "metadata": {},
   "outputs": [
    {
     "data": {
      "text/plain": [
       "0.7479730336717832"
      ]
     },
     "execution_count": 5,
     "metadata": {},
     "output_type": "execute_result"
    }
   ],
   "source": [
    "### equation solver for critical temperature\n",
    "\n",
    "def Temp_func_new(T, E0,Del, Ev, N):\n",
    "    \n",
    "    \n",
    "    return np.sqrt(2)*np.exp((E0+Del)/T)*(Ev/T)**(3/2)*(1 - 2*N*np.exp(-Del/T))**2-(N-1/2)\n",
    "\n",
    "## testing values \n",
    "E0 = 14.0\n",
    "Del = 3.45\n",
    "Ev = 0.001\n",
    "Nelem = 50\n",
    "## test\n",
    "fsolve(Temp_func_new, 0.2, args = (E0, Del, Ev, Nelem))[0]"
   ]
  },
  {
   "cell_type": "markdown",
   "metadata": {},
   "source": [
    "#### Plots of solutions to equation solver"
   ]
  },
  {
   "cell_type": "markdown",
   "metadata": {},
   "source": [
    "#### (a)  Type I "
   ]
  },
  {
   "cell_type": "code",
   "execution_count": 6,
   "metadata": {},
   "outputs": [
    {
     "name": "stderr",
     "output_type": "stream",
     "text": [
      "/Users/mobolajiwilliams/opt/miniconda3/lib/python3.8/site-packages/scipy/optimize/minpack.py:175: RuntimeWarning: The iteration is not making good progress, as measured by the \n",
      "  improvement from the last ten iterations.\n",
      "  warnings.warn(msg, RuntimeWarning)\n",
      "<ipython-input-3-e50bab83d70c>:9: RuntimeWarning: invalid value encountered in sqrt\n",
      "  return np.sqrt(m - m**2/2*(1/k + 1/N))\n"
     ]
    },
    {
     "data": {
      "image/png": "[encoded data removed]",
      "text/plain": [
       "<Figure size 504x360 with 1 Axes>"
      ]
     },
     "metadata": {
      "needs_background": "light"
     },
     "output_type": "display_data"
    },
    {
     "name": "stdout",
     "output_type": "stream",
     "text": [
      "kBT_I = 0.7352029642942484\n",
      "kBT_II = 1.248596635471849\n"
     ]
    }
   ],
   "source": [
    "## Plot of a <k> and <m> for a Type I dimer system\n",
    "\n",
    "plt.figure(figsize = (7,5))\n",
    "\n",
    "# physical parameters\n",
    "E0 =4.15\n",
    "Del =5.75\n",
    "Ev = 10**(-3)\n",
    "Nelem = 50\n",
    "\n",
    "# temperature limits\n",
    "Tmin = .055\n",
    "Tmax = 2.0\n",
    "\n",
    "\n",
    "# spectrum of temperature values; empty vectors for means\n",
    "temp_vals = np.linspace(Tmin, Tmax, 100)\n",
    "kvals = np.ones(len(temp_vals))\n",
    "mvals = np.ones(len(temp_vals))\n",
    "\n",
    "# generating values of k and m means\n",
    "for k in range(len(temp_vals)):\n",
    "    mvals[k], kvals[k]  = fsolve(myfunc, [.05, 1.0], args = (temp_vals[k], E0,Del, Ev, Nelem))\n",
    "\n",
    "\n",
    "#plot of k and m versus T; means \n",
    "plt.plot(temp_vals[2:], mvals[2:]/Nelem, color = 'C1', linestyle='dotted', label = r'$\\langle m \\rangle/N$', linewidth = 3.5)\n",
    "plt.plot(temp_vals[2:], kvals[2:]/Nelem, color = 'C2', linestyle='solid', label = r'$\\langle k \\rangle/N$', linewidth = 3.0)\n",
    "    \n",
    "# spectrum of temperature values; empty vectors for standard deviations\n",
    "temp_vals_err = np.linspace(Tmin, Tmax, 10)\n",
    "kvals_err = np.ones(len(temp_vals_err))\n",
    "mvals_err = np.ones(len(temp_vals_err))\n",
    "\n",
    "# generating values of k and m standard deviations\n",
    "for k in range(len(temp_vals_err)):\n",
    "    mvals_err[k], kvals_err[k]  = fsolve(myfunc, [.05, 1.0], args = (temp_vals_err[k], E0,Del, Ev, Nelem))\n",
    "\n",
    "#plot of k and m versus T; standard deviations\n",
    "plt.errorbar(temp_vals_err[1:], mvals_err[1:]/Nelem, color = 'C1', fmt = '.', yerr = sigma_m(kvals_err[1:], mvals_err[1:], Nelem)/Nelem)\n",
    "plt.errorbar(temp_vals_err[1:], kvals_err[1:]/Nelem, color = 'C2', fmt = '.', yerr = sigma_k(kvals_err[1:], Nelem)/Nelem)\n",
    "\n",
    "# plot of critical temperatures\n",
    "plt.axvline(x= kbT1(E0, Del, Ev, Nelem).real, color = 'blue', linestyle='-.', linewidth = 1.75)\n",
    "plt.axvline(x= kbT2(Del, Nelem), color = 'red', linestyle='dashed', linewidth = 1.75)\n",
    "plt.axvline(x= fsolve(Temp_func_new, 0.2, args = (E0, Del, Ev, Nelem))[0], color = 'k', linestyle=':', linewidth = 3.75)\n",
    "\n",
    "\n",
    "# path design options\n",
    "plt.xlabel(r'$k_B T$', fontsize = 20)\n",
    "ax = plt.gca()\n",
    "ax.set_ylim([0,1.05])\n",
    "ax.yaxis.set_label_coords(-0.1,.5)\n",
    "ax.xaxis.set_label_coords(.5,-.15)\n",
    "\n",
    "ax.text(0.4, 0.6, r'$k_BT_c \\simeq k_BT_1$', color='black', fontsize = 15,\n",
    "        bbox=dict(facecolor='white', edgecolor='none', pad=5.0))\n",
    "ax.text(1.175, 0.6, r'$k_BT_2$', color='black', fontsize = 15,\n",
    "        bbox=dict(facecolor='white', edgecolor='none', pad=5.0))\n",
    "\n",
    "plt.tick_params(axis='both', which='major', labelsize=15)\n",
    "plt.legend(bbox_to_anchor = (.35,0.51), fontsize = 17)\n",
    "\n",
    "warnings.simplefilter(\"ignore\")\n",
    "\n",
    "plt.show()\n",
    "\n",
    "#temperatures T_I and T_II \n",
    "print(\"kBT_I =\", kbT1(E0, Del, Ev, Nelem).real)\n",
    "print(\"kBT_II =\",kbT2(Del, Nelem))"
   ]
  },
  {
   "cell_type": "markdown",
   "metadata": {},
   "source": [
    "#### (b) Edge of Type I and Type II systems"
   ]
  },
  {
   "cell_type": "code",
   "execution_count": 7,
   "metadata": {},
   "outputs": [
    {
     "data": {
      "image/png": "[encoded data removed]",
      "text/plain": [
       "<Figure size 504x360 with 1 Axes>"
      ]
     },
     "metadata": {
      "needs_background": "light"
     },
     "output_type": "display_data"
    },
    {
     "name": "stdout",
     "output_type": "stream",
     "text": [
      "kBT_I = 0.9852696789666392\n",
      "kBT_II = 1.0097346704250605\n"
     ]
    }
   ],
   "source": [
    "##  Plot of a <k> and <m> for system intermediate between Types I and II dimer system\n",
    "\n",
    "plt.figure(figsize = (7,5))\n",
    "\n",
    "# physical parameters\n",
    "E0 =9.05\n",
    "Del =4.65\n",
    "Ev = 10**(-3)\n",
    "Nelem = 50\n",
    "\n",
    "# temperature limits\n",
    "Tmin = .055\n",
    "Tmax = 2.0\n",
    "\n",
    "\n",
    "# spectrum of temperature values; empty vectors for means\n",
    "temp_vals = np.linspace(Tmin, Tmax, 100)\n",
    "kvals = np.ones(len(temp_vals))\n",
    "mvals = np.ones(len(temp_vals))\n",
    "\n",
    "# generating values of k and m means\n",
    "for k in range(len(temp_vals)):\n",
    "    mvals[k], kvals[k]  = fsolve(myfunc, [.05, 1.0], args = (temp_vals[k], E0,Del, Ev, Nelem))\n",
    "\n",
    "\n",
    "#plot of k and m versus T; means \n",
    "plt.plot(temp_vals[2:], mvals[2:]/Nelem, color = 'C1', linestyle='dotted', label = r'$\\langle m \\rangle/N$', linewidth = 3.5)\n",
    "plt.plot(temp_vals[2:], kvals[2:]/Nelem, color = 'C2', linestyle='solid', label = r'$\\langle k \\rangle/N$', linewidth = 3.0)\n",
    "    \n",
    "# spectrum of temperature values; empty vectors for standard deviations\n",
    "temp_vals_err = np.linspace(Tmin, Tmax, 10)\n",
    "kvals_err = np.ones(len(temp_vals_err))\n",
    "mvals_err = np.ones(len(temp_vals_err))\n",
    "\n",
    "# generating values of k and m standard deviations\n",
    "for k in range(len(temp_vals_err)):\n",
    "    mvals_err[k], kvals_err[k]  = fsolve(myfunc, [.05, 1.0], args = (temp_vals_err[k], E0,Del, Ev, Nelem))\n",
    "\n",
    "#plot of k and m versus T; standard deviations\n",
    "plt.errorbar(temp_vals_err[1:], mvals_err[1:]/Nelem, color = 'C1', fmt = '.', yerr = sigma_m(kvals_err[1:], mvals_err[1:], Nelem)/Nelem)\n",
    "plt.errorbar(temp_vals_err[1:], kvals_err[1:]/Nelem, color = 'C2', fmt = '.', yerr = sigma_k(kvals_err[1:], Nelem)/Nelem)\n",
    "\n",
    "plt.axvline(x= kbT1(E0, Del, Ev, Nelem).real, color = 'blue', linestyle='-.', linewidth = 1.75)\n",
    "plt.axvline(x= kbT2(Del, Nelem), color = 'red', linestyle='dashed', linewidth = 1.75)\n",
    "plt.axvline(x= fsolve(Temp_func_new, 0.2, args = (E0, Del, Ev, Nelem))[0], color = 'k', linestyle=':', linewidth = 3.75)\n",
    "\n",
    "\n",
    "# path design options\n",
    "plt.xlabel(r'$k_B T$', fontsize = 20)\n",
    "ax = plt.gca()\n",
    "ax.set_ylim([0,1.05])\n",
    "ax.yaxis.set_label_coords(-0.1,.5)\n",
    "ax.xaxis.set_label_coords(.5,-.15)\n",
    "\n",
    "#ax.text(0.4, 0.6, r'$k_BT_c \\simeq k_BT_1$', color='black', fontsize = 15,\n",
    "#        bbox=dict(facecolor='white', edgecolor='none', pad=5.0))\n",
    "#ax.text(1.175, 0.6, r'$k_BT_2$', color='black', fontsize = 15,\n",
    "#        bbox=dict(facecolor='white', edgecolor='none', pad=5.0))\n",
    "\n",
    "plt.tick_params(axis='both', which='major', labelsize=15)\n",
    "#plt.xticks([0.00, 0.25, 0.50, kbTk(E0, Del, Ev, Nelem),1.0, Del/np.log(2*Nelem), 1.50, 1.75, 2.00, 2.25, 2.5], [0.0,'' ,.5 , r'$ k_BT_k$', 1.0, r'$ k_BT_m$', 1.5 ,'' ,'2.0', '', '2.5' ], fontsize = 15)\n",
    "plt.legend(bbox_to_anchor = (.35,0.51), fontsize = 17)\n",
    "\n",
    "warnings.simplefilter(\"ignore\")\n",
    "\n",
    "plt.show()\n",
    "\n",
    "#temperatures T_I and T_II \n",
    "print(\"kBT_I =\", kbT1(E0, Del, Ev, Nelem).real)\n",
    "print(\"kBT_II =\",kbT2(Del, Nelem))"
   ]
  },
  {
   "cell_type": "markdown",
   "metadata": {},
   "source": [
    "#### (c) Type II systems"
   ]
  },
  {
   "cell_type": "code",
   "execution_count": 8,
   "metadata": {},
   "outputs": [
    {
     "data": {
      "image/png": "[encoded data removed]",
      "text/plain": [
       "<Figure size 504x360 with 1 Axes>"
      ]
     },
     "metadata": {
      "needs_background": "light"
     },
     "output_type": "display_data"
    },
    {
     "name": "stdout",
     "output_type": "stream",
     "text": [
      "kBT_I = 1.2260437453743969\n",
      "kBT_II = 0.7491579812831094\n"
     ]
    }
   ],
   "source": [
    "## Plot of a <k> and <m> for a Type II dimer system\n",
    "\n",
    "plt.figure(figsize = (7,5))\n",
    "\n",
    "# physical parameters\n",
    "E0 =14.00\n",
    "Del = 3.45\n",
    "Ev = 10**(-3)\n",
    "Nelem = 50\n",
    "\n",
    "# temperature limits\n",
    "Tmin = .055\n",
    "Tmax = 2.0\n",
    "\n",
    "\n",
    "# spectrum of temperature values; empty vectors for means\n",
    "temp_vals = np.linspace(Tmin, Tmax, 100)\n",
    "kvals = np.ones(len(temp_vals))\n",
    "mvals = np.ones(len(temp_vals))\n",
    "\n",
    "# generating values of k and m means\n",
    "for k in range(len(temp_vals)):\n",
    "    mvals[k], kvals[k]  = fsolve(myfunc, [0.5, 0.5], args = (temp_vals[k], E0,Del, Ev, Nelem))\n",
    "\n",
    "\n",
    "#plot of k and m versus T; means \n",
    "plt.plot(temp_vals[2:], mvals[2:]/Nelem, color = 'C1', linestyle='dotted', label = r'$\\langle m \\rangle/N$', linewidth = 3.5)\n",
    "plt.plot(temp_vals[2:], kvals[2:]/Nelem, color = 'C2', linestyle='solid', label = r'$\\langle k \\rangle/N$', linewidth = 3.0)\n",
    "    \n",
    "# spectrum of temperature values; empty vectors for standard deviations\n",
    "temp_vals_err = np.linspace(Tmin, Tmax, 10)\n",
    "kvals_err = np.ones(len(temp_vals_err))\n",
    "mvals_err = np.ones(len(temp_vals_err))\n",
    "\n",
    "# generating values of k and m standard deviations\n",
    "for k in range(len(temp_vals_err)):\n",
    "    mvals_err[k], kvals_err[k]  = fsolve(myfunc, [.05, 1.0], args = (temp_vals_err[k], E0,Del, Ev, Nelem))\n",
    "\n",
    "#plot of k and m versus T; standard deviations\n",
    "plt.errorbar(temp_vals_err[1:], mvals_err[1:]/Nelem, color = 'C1', fmt = '.', yerr = sigma_m(kvals_err[1:], mvals_err[1:], Nelem)/Nelem)\n",
    "plt.errorbar(temp_vals_err[1:], kvals_err[1:]/Nelem, color = 'C2', fmt = '.', yerr = sigma_k(kvals_err[1:], Nelem)/Nelem)\n",
    "\n",
    "# plot of critical temperatures\n",
    "plt.axvline(x= kbT1(E0, Del, Ev, Nelem).real, color = 'blue', linestyle='-.', linewidth = 1.75)\n",
    "plt.axvline(x= kbT2(Del, Nelem), color = 'red', linestyle='dashed', linewidth = 1.75)\n",
    "plt.axvline(x= fsolve(Temp_func_new, 0.2, args = (E0, Del, Ev, Nelem))[0], color = 'k', linestyle=':', linewidth = 3.75)\n",
    "\n",
    "\n",
    "# path design options\n",
    "plt.xlabel(r'$k_B T$', fontsize = 20)\n",
    "ax = plt.gca()\n",
    "ax.set_ylim([0,1.05])\n",
    "ax.yaxis.set_label_coords(-0.1,.5)\n",
    "ax.xaxis.set_label_coords(.5,-.15)\n",
    "\n",
    "ax.text(0.4, 0.6, r'$k_BT_c \\simeq k_BT_2$', color='black', fontsize = 15,\n",
    "        bbox=dict(facecolor='white', edgecolor='none', pad=5.0))\n",
    "ax.text(1.175, 0.6, r'$k_BT_1$', color='black', fontsize = 15,\n",
    "        bbox=dict(facecolor='white', edgecolor='none', pad=5.0))\n",
    "\n",
    "plt.tick_params(axis='both', which='major', labelsize=15)\n",
    "plt.legend(bbox_to_anchor = (.35,.51), fontsize = 17)\n",
    "\n",
    "warnings.simplefilter(\"ignore\")\n",
    "\n",
    "\n",
    "plt.show()\n",
    "\n",
    "#temperatures T_I and T_II \n",
    "print(\"kBT_I =\", kbT1(E0, Del, Ev, Nelem).real)\n",
    "print(\"kBT_II =\",kbT2(Del, Nelem))"
   ]
  },
  {
   "cell_type": "markdown",
   "metadata": {
    "collapsed": true
   },
   "source": [
    "## II. Monte Carlo Simulations "
   ]
  },
  {
   "cell_type": "markdown",
   "metadata": {},
   "source": [
    "Quoted from paper\n",
    "\n",
    "\"The simulation results in Fig. 4 were obtained using the Metropolis-Hastings Monte Carlo algorithm. We defined the microstate of our system by two lists: One defining the particles which are monomers and the other defining the monomer-monomer pairs making up the dimers. For example, a $2N = 10$ particle system, could have a microstate defined by the monomer list $[1,4,6,9]$ and the dimer list $[(3,5), (2,8), (7, 10)]$. The free energy of a microstate was given by \n",
    "\n",
    "$$f(k, m) = - k E_0 - m \\Delta - k\\,k_BT\\ln (V/\\lambda_0^3) - (2N-2k)k_BT \\ln(2 \\sqrt{2}\\, V/\\lambda_0^3)$$\n",
    "\n",
    "for a system with $k$ dimers of which $m$ consisted of correct contacts. \n",
    "\n",
    "To efficiently explore the state space of the system, we used three different types of transitions with unique probability weights for each one. In the following list $N_{\\text{m}}$ and $N_{\\text{d}}$ represent, respectively, the lengths of the monomer and dimer lists before the transition. \n",
    "\n",
    "- **Monomer Association:** Two randomly chosen monomers are removed from the monomer list, joined as a pair, and the pair is appended to the dimer vector.  Weight = $\\binom{N_{\\text{m}}}{2}/(N_{\\text{d}}+1)$ <br> *Example:* mon = $[1,3, 4, 5, 6,9]$ and dim = $[(2,8), (7, 10)]$ $\\to$ mon = $[1,4,6,9]$ and\\\\ dim = $[(3,5), (2,8), (7, 10)]$; Weight = 15/3.\n",
    "\n",
    "\n",
    "- **Dimer Dissociation:** One randomly chosen dimer is removed from the dimer vector, and both of its elements are appended to the monomer vectors. Weight = $ N_{\\text{d}}/\\binom{N_{\\text{m}}+2}{2}$ <br> *Example:* mon = $[6,9]$ and dim = $[ (1, 4), (3,5), (2,8), (7, 10)]$ $\\to$ mon = $[2, 6,8, 9]$ and\\\\ dim = $[ (1, 4), (3,5), (7, 10)]$; Weight = 4/6.\n",
    "\n",
    "- **Dimer Cross-Over:** Two dimers are chosen randomly. One randomly chosen element from one dimer is switched with a randomly chosen element of the other dimer.  Weight =1.  <br>*Example:* dim = $[ (1, 4), (3,5) (7, 10) ]$ $\\to$ dim = $[ (1, 10), (3,5), (4, 10)]$  ]; Weight = 1.\n",
    "\n",
    "The third type of transition is unphysical but is necessary to ensure that the system can quickly escape kinetic traps that led to inefficient sampling of the state space. \n",
    "\n",
    "For each simulation step, there was a 1/3 probability of selecting each transition type and the suggested step was accepted with log-probability \n",
    "\n",
    "$$\n",
    "\\ln p_{\\text{accept}} = -  (f_{\\text{fin.}}-f_{\\text{init.}})/k_BT+\\ln\\text{(Weight)}, \n",
    "$$ <br>\n",
    "\n",
    "where $f_{\\text{fin}}$ and $f_{\\text{init}}$ are the final and initial free energies of the microstate, and \"(Weight)\" is the ratio between the number of ways to make the forward transition and the number of ways to make the reverse transition. This weight was chosen for each transition type to ensure that detailed balance was maintained. For impossible transitions (e.g., monomer association for a microstate with no monomers), $p_{\\text{accept}}$ was set to zero. \n"
   ]
  },
  {
   "cell_type": "markdown",
   "metadata": {},
   "source": [
    "#### Preliminary Functions"
   ]
  },
  {
   "cell_type": "code",
   "execution_count": 9,
   "metadata": {},
   "outputs": [],
   "source": [
    "## randomly selects two elements (w/o replacement) from list\n",
    "\n",
    "def rand_select(ls):\n",
    "    \n",
    "    lss = copy.deepcopy(ls)\n",
    "    \n",
    "    elem = random.choice(lss)\n",
    "    \n",
    "    lss.remove(elem)\n",
    "    \n",
    "    elem2 = random.choice(lss)\n",
    "    \n",
    "    return [elem, elem2]"
   ]
  },
  {
   "cell_type": "code",
   "execution_count": 10,
   "metadata": {},
   "outputs": [],
   "source": [
    "## counts number of correct dimers in a list of dimers\n",
    "\n",
    "def count_corr(dim_state, Np):\n",
    "    \n",
    "    # generates list of correct dimers; for monomers in both orders\n",
    "    corr_list = [0]*(2*Np)\n",
    "    for k in range(Np):\n",
    "        corr_list[k] = [k+1,Np+k+1]\n",
    "        corr_list[k+Np] = [Np+k+1, k+1]\n",
    "\n",
    "    count = 0\n",
    "    for j in range(len(dim_state)):\n",
    "        if dim_state[j] in corr_list:\n",
    "            count = count+1\n",
    "            \n",
    "    return count"
   ]
  },
  {
   "cell_type": "code",
   "execution_count": 11,
   "metadata": {},
   "outputs": [],
   "source": [
    "## First type of transition; Monomer Association\n",
    "\n",
    "def trans_state1(mon_state, dim_state):\n",
    "    \n",
    "    # copies monomer and dimer lists; must use deep copy otherwise lists change\n",
    "    monomers = copy.deepcopy(mon_state)\n",
    "    dimers = copy.deepcopy(dim_state)\n",
    "    \n",
    "    # selects random monomers and removes them from list\n",
    "    mon1, mon2 = rand_select(monomers)\n",
    "\n",
    "    # removes the selected monomers\n",
    "    monomers.remove(mon1)\n",
    "    monomers.remove(mon2)\n",
    "\n",
    "    # turns the monomers into dimers and appends them to dimer state\n",
    "    dimers.append([mon1, mon2])\n",
    "    \n",
    "    return [monomers, dimers]"
   ]
  },
  {
   "cell_type": "code",
   "execution_count": 12,
   "metadata": {},
   "outputs": [],
   "source": [
    "## Second type of transition; Dimer dissociation\n",
    "\n",
    "def trans_state2(mon_state, dim_state):\n",
    "    \n",
    "    # copies monomer and dimer lists; must use deep copy otherwise lists change\n",
    "    monomers = copy.deepcopy(mon_state)\n",
    "    dimers = copy.deepcopy(dim_state) \n",
    "\n",
    "    # selected dimer\n",
    "    dim1 = random.choice(dimers)\n",
    "\n",
    "    # removes selected dimer\n",
    "    dimers.remove(dim1)\n",
    "\n",
    "    # selects monomers from the dimers \n",
    "    mon1, mon2 = dim1\n",
    "\n",
    "    # adds selected monomers to monomer list\n",
    "    monomers.append(mon1)\n",
    "    monomers.append(mon2)\n",
    "    \n",
    "    \n",
    "    return [monomers, dimers]"
   ]
  },
  {
   "cell_type": "code",
   "execution_count": 13,
   "metadata": {},
   "outputs": [],
   "source": [
    "## Third type of transition; Switching elements of Dimer\n",
    "\n",
    "def trans_state3(mon_state, dim_state):\n",
    "    \n",
    "    # copies monomer and dimer lists; must use deep copy otherwise lists change\n",
    "    monomers = copy.deepcopy(mon_state)\n",
    "    dimers = copy.deepcopy(dim_state)\n",
    "\n",
    "    dim1, dim2 = rand_select(dimers) #randomly chosen dimer pair\n",
    "\n",
    "    # removes dimer pair from list of dimers\n",
    "    dimers.remove(dim1)\n",
    "    dimers.remove(dim2)\n",
    "    \n",
    "    i1 = randint(0,1) #random index 1\n",
    "    i2 = randint(0,1) #random index 2\n",
    "\n",
    "    mon1 = dim1[i1] #randomly chosen element of first dimer \n",
    "    mon2 = dim2[i2] #randomly chosen element of second dimer\n",
    "\n",
    "    # switch randomly chosen elements of dimers\n",
    "    dim1[i1] = mon2 \n",
    "    dim2[i2] = mon1\n",
    "\n",
    "    # appends new dimers \n",
    "    dimers.append(dim1)\n",
    "    dimers.append(dim2) \n",
    "    \n",
    "    return [monomers, dimers]"
   ]
  },
  {
   "cell_type": "code",
   "execution_count": 14,
   "metadata": {},
   "outputs": [],
   "source": [
    "# computes the free energy of the microstate; we only need the number of particles\n",
    "# and the dimer state to compute this energy\n",
    "\n",
    "def energy(Np, dim_state, temp, E0, Delta, Ev):\n",
    "    ''' Npar: number of particles\n",
    "    dim_state: dimer state\n",
    "    temp: temperature of system\n",
    "    E0: offset binding energy\n",
    "    Delta: energy advantage\n",
    "    Ev: energy by de Broglie wavelength '''\n",
    "    \n",
    "    k = len(dim_state) #number of dimers in system\n",
    "    m = count_corr(dim_state, Np) # number of correct dimers in system\n",
    "    \n",
    "    # Inverse of de Broglie Wavelength cubed to the third power\n",
    "    V_lam3 = (temp/Ev)**(3/2)\n",
    "    \n",
    "    return -k*E0 - m*Delta -temp*k*np.log(V_lam3*2*np.sqrt(2))-temp*(2*Np-2*k)*np.log(V_lam3) \n",
    "#- temp*np.log(comb(Np,m)) - temp*np.log(afunc(Np-m,k-m))    \n",
    "    "
   ]
  },
  {
   "cell_type": "markdown",
   "metadata": {},
   "source": [
    "#### Metropolis-Hastings Algorithm"
   ]
  },
  {
   "cell_type": "code",
   "execution_count": 15,
   "metadata": {},
   "outputs": [],
   "source": [
    "### Metropolis Hastings Monte Carlo Algorithm for dimer system\n",
    "\n",
    "def meth_dimer(Niter, dim_init, mon_init, Np, temp, E0, Delta, Ev):\n",
    "    '''\n",
    "    #################################################################\n",
    "    # function to sample using Metropolis \n",
    "    # \n",
    "    # Niter: number of iterations of algorithm\n",
    "    # dim_init: initial dimer state\n",
    "    # mon_init: initial monomer state\n",
    "    # Np: number of particles\n",
    "    # temp: temperature \n",
    "    # E0: offset binding energy\n",
    "    # Delta: energy advantage\n",
    "    # Ev: energy by de Broglie wavelength\n",
    "    ##################################################################\n",
    "    '''\n",
    "    # Initialize state values\n",
    "    mon_state_vals = [0]*(Niter+1)\n",
    "    dim_state_vals = [0]*(Niter+1)\n",
    "    \n",
    "    \n",
    "    # Set initial values\n",
    "    mon_state_vals[0] = mon_init[:]\n",
    "    dim_state_vals[0] = dim_init[:]\n",
    "        \n",
    "    # Initialize acceptance counts\n",
    "    # We can use this to tune our step size\n",
    "    accepted = 0\n",
    "    \n",
    "    for i in range(Niter):\n",
    "    \n",
    "        # get current monomer and dimer states\n",
    "        current_mon_state = copy.deepcopy(mon_state_vals[i])\n",
    "        current_dim_state = copy.deepcopy(dim_state_vals[i])\n",
    "        \n",
    "        Nm = len(current_mon_state)#number of monomers\n",
    "        Nd = len(current_dim_state)#number of dimers\n",
    "        \n",
    "        u_trans = runif()\n",
    "        \n",
    "        if u_trans < 1/3: #first type of transition; monomer association \n",
    "            \n",
    "            if Nm < 1:\n",
    "                \n",
    "                log_alpha = np.log(0) \n",
    "            \n",
    "            else:\n",
    "                # proposed new monomer and dimer states\n",
    "                new_mon_state, new_dim_state = trans_state1(current_mon_state, current_dim_state)\n",
    "\n",
    "                Einit = energy(Np, current_dim_state, temp, E0, Delta, Ev)\n",
    "                Efin = energy(Np, new_dim_state, temp, E0, Delta, Ev)\n",
    "\n",
    "                # numerator and denominator scaling for hastings ratio\n",
    "                num = (Nm*(Nm-1)/2)\n",
    "                den = (Nd+1)\n",
    "\n",
    "                # Log-acceptance rate\n",
    "                log_alpha = -(Efin - Einit)/temp + np.log(num/den)\n",
    "            \n",
    "            \n",
    "        elif 1/3 <= u_trans < 2/3: #second type of transition; dimer dissociation \n",
    "            \n",
    "            if Nd <1:\n",
    "                \n",
    "                log_alpha = np.log(0)\n",
    "                \n",
    "            else: \n",
    "                \n",
    "                # proposed new monomer and dimer states\n",
    "                new_mon_state, new_dim_state = trans_state2(current_mon_state, current_dim_state)\n",
    "\n",
    "                Einit = energy(Np, current_dim_state, temp, E0, Delta, Ev)\n",
    "                Efin = energy(Np, new_dim_state, temp, E0, Delta, Ev)    \n",
    "\n",
    "                # numerator and denominator of hastings ratio\n",
    "                num = Nd \n",
    "                den = (Nm+2)*(Nm+1)/2\n",
    "\n",
    "                # Log-acceptance rate\n",
    "                log_alpha = -(Efin - Einit)/temp + np.log(num/den)\n",
    "            \n",
    "        elif 2/3 <= u_trans: #third type of transition; switching dimer components\n",
    "            \n",
    "            if Nd <2:\n",
    "                \n",
    "                log_alpha = np.log(0)\n",
    "\n",
    "            \n",
    "            else:\n",
    "                # proposed new monomer and dimer states\n",
    "                new_mon_state, new_dim_state = trans_state3(current_mon_state, current_dim_state)\n",
    "\n",
    "                Einit = energy(Np, current_dim_state, temp, E0, Delta, Ev)\n",
    "                Efin = energy(Np, new_dim_state, temp, E0, Delta, Ev)\n",
    "\n",
    "                # Log-acceptance rate\n",
    "                log_alpha = -(Efin - Einit)/temp\n",
    "                    \n",
    "            \n",
    "        # Sample a uniform random variate\n",
    "        u = runif()\n",
    "\n",
    "        # Test proposed value\n",
    "        if np.log(u) < log_alpha:\n",
    "            # Accept\n",
    "            mon_state_vals[i+1] = new_mon_state\n",
    "            dim_state_vals[i+1] = new_dim_state\n",
    "            \n",
    "            #log_current_prob = log_proposed_prob\n",
    "            accepted += 1\n",
    "        else:\n",
    "            # Stay put\n",
    "            mon_state_vals[i+1] = mon_state_vals[i]\n",
    "            dim_state_vals[i+1] = dim_state_vals[i]\n",
    "\n",
    "    # return our samples and the number of accepted steps\n",
    "    return mon_state_vals, dim_state_vals, accepted"
   ]
  },
  {
   "cell_type": "markdown",
   "metadata": {},
   "source": [
    "#### Calculation of Ensemble Averages at Equilibrium"
   ]
  },
  {
   "cell_type": "code",
   "execution_count": 16,
   "metadata": {},
   "outputs": [],
   "source": [
    "## average number of all dimers and number of correct correct for all states in ensemble\n",
    "\n",
    "## we start far from the beginning of the chain to ensure that it\n",
    "## has reached \"equilibrium\"\n",
    "\n",
    "# average number of dimers\n",
    "def avg_k(dim_state_vals, Nmc):\n",
    "    \n",
    "    length = int(Nmc/50)\n",
    "    \n",
    "    ls = [0]*length\n",
    "    ls = np.array(ls)\n",
    "    for k in range(length):\n",
    "        ls[k] = len(dim_state_vals[Nmc-length+k])\n",
    "    \n",
    "    return(np.mean(ls))\n",
    "\n",
    "# average number of correct dimers\n",
    "def avg_m(dim_state_vals, Nmc, Np):\n",
    "    \n",
    "    length = int(Nmc/50)\n",
    "    \n",
    "    ls = [0]*length\n",
    "    ls = np.array(ls)\n",
    "    for k in range(length):\n",
    "        ls[k] = count_corr(dim_state_vals[Nmc-length+k], Np)\n",
    "    \n",
    "    return(np.mean(ls))"
   ]
  },
  {
   "cell_type": "markdown",
   "metadata": {},
   "source": [
    "#### Simulation for Type I"
   ]
  },
  {
   "cell_type": "code",
   "execution_count": 17,
   "metadata": {},
   "outputs": [
    {
     "name": "stdout",
     "output_type": "stream",
     "text": [
      "Temperature Run: 1 ; Current Time: 38.73 secs\n",
      "Temperature Run: 2 ; Current Time: 75.9 secs\n",
      "Temperature Run: 3 ; Current Time: 112.54 secs\n",
      "Temperature Run: 4 ; Current Time: 149.41 secs\n",
      "Temperature Run: 5 ; Current Time: 190.74 secs\n",
      "Temperature Run: 6 ; Current Time: 240.45 secs\n",
      "Temperature Run: 7 ; Current Time: 290.68 secs\n",
      "Temperature Run: 8 ; Current Time: 332.37 secs\n",
      "Temperature Run: 9 ; Current Time: 366.48 secs\n",
      "Temperature Run: 10 ; Current Time: 395.47 secs\n",
      "Temperature Run: 11 ; Current Time: 421.6 secs\n",
      "Temperature Run: 12 ; Current Time: 446.88 secs\n",
      "Temperature Run: 13 ; Current Time: 469.09 secs\n",
      "Temperature Run: 14 ; Current Time: 489.23 secs\n",
      "Temperature Run: 15 ; Current Time: 508.41 secs\n",
      "Total Simulation Run Time: 508.41350507736206 secs\n"
     ]
    }
   ],
   "source": [
    "## Generate lf for each temperature from .03 to 2.0 in npoints steps\n",
    "\n",
    "t0 = time.time()\n",
    "\n",
    "# number of steps for MC algortihm\n",
    "Nmc = 30000\n",
    "\n",
    "# physical parameters\n",
    "Np1 =  50 # Half of number of particles in system\n",
    "E01 = 4.15\n",
    "Del = 5.75\n",
    "Ev1 = 10**(-3)\n",
    "\n",
    "# list of possible correct contacts (irrespective of order)\n",
    "corr_list = [0]*(2*Np1)\n",
    "for k in range(Np1):\n",
    "    corr_list[k] = [k+1,Np1+k+1]\n",
    "    corr_list[k+Np1] = [Np1+k+1, k+1]\n",
    "\n",
    "# initial monomer and dimer states; \n",
    "# system in microstate of all correct dimers\n",
    "mon_state_0 = []\n",
    "dim_state_0 = corr_list[:Np1]\n",
    "\n",
    "npoints = 15 #number of temperature values\n",
    "navg = 5 # number of times we run simulation at each temperature; 50 in paper\n",
    "temp_vals = np.linspace(.055, 2.0, npoints).tolist()\n",
    "\n",
    "# list of dimer values \n",
    "sim_kvals_1 = [0]*npoints\n",
    "\n",
    "# list of correct dimer values\n",
    "sim_mvals_1 = [0]*npoints\n",
    "\n",
    "for k in range(npoints):\n",
    "    \n",
    "    fin_kvals_1 = [0]*navg\n",
    "    fin_mvals_1 = [0]*navg\n",
    "    \n",
    "    for j in range(navg): \n",
    "        \n",
    "        # make copy of initial monomer and dimer states \n",
    "        mon_copy = copy.deepcopy(mon_state_0)\n",
    "        dim_copy = copy.deepcopy(dim_state_0)\n",
    "\n",
    "        # metroplois generator\n",
    "        mon_state_list, dim_state_list, accepted = meth_dimer(Niter = Nmc, \n",
    "                                                             dim_init = dim_copy,\n",
    "                                                             mon_init = mon_copy, \n",
    "                                                             Np = Np1, \n",
    "                                                             temp = temp_vals[k], \n",
    "                                                             E0 = E01, \n",
    "                                                             Delta = Del, \n",
    "                                                             Ev = Ev1)\n",
    "        fin_kvals_1[j] = avg_k(dim_state_list, Nmc)\n",
    "        fin_mvals_1[j] = avg_m(dim_state_list, Nmc, Np1)\n",
    "    \n",
    "    \n",
    "    sim_kvals_1[k] = np.mean(np.array(fin_kvals_1))\n",
    "    sim_mvals_1[k] = np.mean(np.array(fin_mvals_1))\n",
    "    \n",
    "    t_prelim = time.time()\n",
    "    print(\"Temperature Run:\",str(k+1),\"; Current Time:\", round(t_prelim-t0,2),\"secs\")\n",
    "    \n",
    "\n",
    "t1 = time.time()\n",
    "print(\"Total Simulation Run Time:\",t1-t0,\"secs\")"
   ]
  },
  {
   "cell_type": "code",
   "execution_count": 18,
   "metadata": {},
   "outputs": [
    {
     "data": {
      "image/png": "[encoded data removed]",
      "text/plain": [
       "<Figure size 504x360 with 1 Axes>"
      ]
     },
     "metadata": {
      "needs_background": "light"
     },
     "output_type": "display_data"
    }
   ],
   "source": [
    "# Plot of simulation\n",
    "\n",
    "plt.figure(figsize = (7,5))\n",
    "\n",
    "# spectrum of temperature values\n",
    "temp_vals1 = np.linspace(Tmin, Tmax, 100)\n",
    "kvals = np.ones(len(temp_vals1))\n",
    "mvals = np.ones(len(temp_vals1))\n",
    "\n",
    "# plot of simulations\n",
    "plt.plot(temp_vals, np.array(sim_kvals_1)/Np1,'D', label = r'$\\langle k \\rangle/N$ (sim)',  markersize = 4.0, )\n",
    "plt.plot(temp_vals, np.array(sim_mvals_1)/Np1, 'D', label = r'$\\langle m \\rangle/N$ (sim)', markersize = 4.0, )\n",
    "\n",
    "# plot design options\n",
    "plt.xlabel(r'$k_B T$', fontsize = 20)\n",
    "ax = plt.gca()\n",
    "ax.set_ylim([0,1.05])\n",
    "ax.yaxis.set_label_coords(-0.1,.5)\n",
    "ax.xaxis.set_label_coords(.5,-.15)\n",
    "plt.tick_params(axis='both', which='major', labelsize=15)\n",
    "\n",
    "plt.legend(loc = 'best', fontsize = 17)\n",
    "\n",
    "warnings.simplefilter(\"ignore\")\n",
    "\n",
    "plt.show()"
   ]
  },
  {
   "cell_type": "markdown",
   "metadata": {},
   "source": [
    "#### Simulation for Type II"
   ]
  },
  {
   "cell_type": "code",
   "execution_count": 19,
   "metadata": {},
   "outputs": [
    {
     "name": "stdout",
     "output_type": "stream",
     "text": [
      "Temperature Run: 1 ; Current Time: 39.62 secs\n",
      "Temperature Run: 2 ; Current Time: 77.69 secs\n",
      "Temperature Run: 3 ; Current Time: 115.27 secs\n",
      "Temperature Run: 4 ; Current Time: 152.04 secs\n",
      "Temperature Run: 5 ; Current Time: 190.69 secs\n",
      "Temperature Run: 6 ; Current Time: 228.59 secs\n",
      "Temperature Run: 7 ; Current Time: 270.82 secs\n",
      "Temperature Run: 8 ; Current Time: 323.33 secs\n",
      "Temperature Run: 9 ; Current Time: 389.78 secs\n",
      "Temperature Run: 10 ; Current Time: 458.43 secs\n",
      "Temperature Run: 11 ; Current Time: 525.62 secs\n",
      "Temperature Run: 12 ; Current Time: 591.62 secs\n",
      "Temperature Run: 13 ; Current Time: 654.16 secs\n",
      "Temperature Run: 14 ; Current Time: 711.16 secs\n",
      "Temperature Run: 15 ; Current Time: 764.31 secs\n",
      "Total Simulation Run Time: 764.3093056678772 secs\n"
     ]
    }
   ],
   "source": [
    "## Generate lf for each temperature from .03 to 2.0 in npoints steps\n",
    "\n",
    "t0 = time.time()\n",
    "\n",
    "# number of steps for MC algortihm\n",
    "Nmc = 30000\n",
    "\n",
    "# physical parameters\n",
    "Np1 =  50 # Half of number of particles in system\n",
    "E01 =14.00\n",
    "Del = 3.45\n",
    "Ev1 = 10**(-3)\n",
    "\n",
    "# list of possible correct contacts (irrespective of order)\n",
    "corr_list = [0]*(2*Np1)\n",
    "for k in range(Np1):\n",
    "    corr_list[k] = [k+1,Np1+k+1]\n",
    "    corr_list[k+Np1] = [Np1+k+1, k+1]\n",
    "\n",
    "# initial monomer and dimer states; \n",
    "# system in microstate of all correct dimers\n",
    "mon_state_0 = []\n",
    "dim_state_0 = corr_list[:Np1]\n",
    "\n",
    "#mon_state_0 =list(range(1,2*Np1+1))\n",
    "#dim_state_0 = []\n",
    "\n",
    "npoints = 15 #number of temperature values\n",
    "navg = 5 # number of times we run simulation at each temperature; 50 in paper\n",
    "temp_vals = np.linspace(.055, 2.0, npoints).tolist()\n",
    "\n",
    "# list of dimer values and stdev\n",
    "sim_kvals_2 = [0]*npoints\n",
    "\n",
    "# list of correct dimer values and stdev\n",
    "sim_mvals_2 = [0]*npoints\n",
    "\n",
    "for k in range(npoints):\n",
    "    \n",
    "    fin_kvals_2 = [0]*navg\n",
    "    fin_mvals_2 = [0]*navg\n",
    "    \n",
    "    for j in range(navg): \n",
    "        \n",
    "        # make copy of initial monomer and dimer states \n",
    "        mon_copy = copy.deepcopy(mon_state_0)\n",
    "        dim_copy = copy.deepcopy(dim_state_0)\n",
    "\n",
    "        # metroplois generator\n",
    "        mon_state_list, dim_state_list, accepted = meth_dimer(Niter = Nmc, \n",
    "                                                             dim_init = dim_copy,\n",
    "                                                             mon_init = mon_copy, \n",
    "                                                             Np = Np1, \n",
    "                                                             temp = temp_vals[k], \n",
    "                                                             E0 = E01, \n",
    "                                                             Delta = Del, \n",
    "                                                             Ev = Ev1)\n",
    "        fin_kvals_2[j] = avg_k(dim_state_list, Nmc)\n",
    "        fin_mvals_2[j] = avg_m(dim_state_list, Nmc, Np1)\n",
    "    \n",
    "    \n",
    "    sim_kvals_2[k] = np.mean(np.array(fin_kvals_2))\n",
    "    sim_mvals_2[k] = np.mean(np.array(fin_mvals_2))\n",
    "    \n",
    "    t_prelim = time.time()\n",
    "    print(\"Temperature Run:\",str(k+1),\"; Current Time:\", round(t_prelim-t0,2),\"secs\")\n",
    "    \n",
    "\n",
    "t1 = time.time()\n",
    "print(\"Total Simulation Run Time:\",t1-t0,\"secs\")"
   ]
  },
  {
   "cell_type": "code",
   "execution_count": 20,
   "metadata": {},
   "outputs": [
    {
     "data": {
      "image/png": "[encoded data removed]",
      "text/plain": [
       "<Figure size 504x360 with 1 Axes>"
      ]
     },
     "metadata": {
      "needs_background": "light"
     },
     "output_type": "display_data"
    }
   ],
   "source": [
    "# Plot of simulation\n",
    "\n",
    "plt.figure(figsize = (7,5))\n",
    "\n",
    "# physical parameters\n",
    "E0 =14.00\n",
    "Del = 3.45\n",
    "Ev = 0.001\n",
    "Nelem = 50\n",
    "\n",
    "# temperature limits\n",
    "Tmin = .055\n",
    "Tmax = 2.0\n",
    "\n",
    "\n",
    "# spectrum of temperature values\n",
    "temp_vals1 = np.linspace(Tmin, Tmax, 100)\n",
    "kvals = np.ones(len(temp_vals1))\n",
    "mvals = np.ones(len(temp_vals1))\n",
    "\n",
    "\n",
    "# plot of simulations\n",
    "plt.plot(temp_vals, np.array(sim_kvals_2)/Np1,'D', label = r'$\\langle k \\rangle/N$ (sim)',  markersize = 4.0, )\n",
    "plt.plot(temp_vals, np.array(sim_mvals_2)/Np1, 'D', label = r'$\\langle m \\rangle/N$ (sim)', markersize = 4.0, )\n",
    "\n",
    "\n",
    "# plot design options\n",
    "plt.xlabel(r'$k_B T$', fontsize = 20)\n",
    "ax = plt.gca()\n",
    "ax.set_ylim([0,1.05])\n",
    "ax.yaxis.set_label_coords(-0.1,.5)\n",
    "ax.xaxis.set_label_coords(.5,-.15)\n",
    "plt.tick_params(axis='both', which='major', labelsize=15)\n",
    "\n",
    "plt.legend(loc = 'best', fontsize = 17)\n",
    "\n",
    "warnings.simplefilter(\"ignore\")\n",
    "\n",
    "plt.show()"
   ]
  },
  {
   "cell_type": "markdown",
   "metadata": {},
   "source": [
    "#### Simulation for indeterminate type"
   ]
  },
  {
   "cell_type": "code",
   "execution_count": 21,
   "metadata": {},
   "outputs": [
    {
     "name": "stdout",
     "output_type": "stream",
     "text": [
      "Temperature Run: 1 ; Current Time: 36.8 secs\n",
      "Temperature Run: 2 ; Current Time: 73.55 secs\n",
      "Temperature Run: 3 ; Current Time: 110.4 secs\n",
      "Temperature Run: 4 ; Current Time: 147.08 secs\n",
      "Temperature Run: 5 ; Current Time: 183.86 secs\n",
      "Temperature Run: 6 ; Current Time: 222.74 secs\n",
      "Temperature Run: 7 ; Current Time: 267.52 secs\n",
      "Temperature Run: 8 ; Current Time: 324.31 secs\n",
      "Temperature Run: 9 ; Current Time: 381.99 secs\n",
      "Temperature Run: 10 ; Current Time: 436.97 secs\n",
      "Temperature Run: 11 ; Current Time: 487.06 secs\n",
      "Temperature Run: 12 ; Current Time: 531.92 secs\n",
      "Temperature Run: 13 ; Current Time: 571.68 secs\n",
      "Temperature Run: 14 ; Current Time: 607.01 secs\n",
      "Temperature Run: 15 ; Current Time: 638.84 secs\n",
      "Total Simulation Run Time: 638.8393840789795 secs\n"
     ]
    }
   ],
   "source": [
    "## Generate lf for each temperature from .03 to 2.0 in npoints steps\n",
    "\n",
    "t0 = time.time()\n",
    "\n",
    "# number of steps for MC algortihm\n",
    "Nmc = 30000\n",
    "\n",
    "# physical parameters\n",
    "Np1 =  50 # Half of number of particles in system\n",
    "E01 =9.05\n",
    "Del =4.65\n",
    "Ev1 = 10**(-3)\n",
    "\n",
    "# list of possible correct contacts (irrespective of order)\n",
    "corr_list = [0]*(2*Np1)\n",
    "for k in range(Np1):\n",
    "    corr_list[k] = [k+1,Np1+k+1]\n",
    "    corr_list[k+Np1] = [Np1+k+1, k+1]\n",
    "\n",
    "# initial monomer and dimer states; \n",
    "# system in microstate of all correct dimers\n",
    "mon_state_0 = []\n",
    "dim_state_0 = corr_list[:Np1]\n",
    "\n",
    "npoints = 15 #number of temperature values\n",
    "navg = 5 # number of times we run simulation at each temperature; 50 in paper\n",
    "temp_vals = np.linspace(.055, 2.0, npoints).tolist()\n",
    "\n",
    "# list of dimer values \n",
    "sim_kvals_3 = [0]*npoints\n",
    "\n",
    "# list of correct dimer values \n",
    "sim_mvals_3 = [0]*npoints\n",
    "\n",
    "for k in range(npoints):\n",
    "    \n",
    "    fin_kvals_3 = [0]*navg\n",
    "    fin_mvals_3 = [0]*navg\n",
    "    \n",
    "    for j in range(navg): \n",
    "        \n",
    "        # make copy of initial monomer and dimer states \n",
    "        mon_copy = copy.deepcopy(mon_state_0)\n",
    "        dim_copy = copy.deepcopy(dim_state_0)\n",
    "\n",
    "        # metroplois generator\n",
    "        mon_state_list, dim_state_list, accepted = meth_dimer(Niter = Nmc, \n",
    "                                                             dim_init = dim_copy,\n",
    "                                                             mon_init = mon_copy, \n",
    "                                                             Np = Np1, \n",
    "                                                             temp = temp_vals[k], \n",
    "                                                             E0 = E01, \n",
    "                                                             Delta = Del, \n",
    "                                                             Ev = Ev1)\n",
    "        fin_kvals_3[j] = avg_k(dim_state_list, Nmc)\n",
    "        fin_mvals_3[j] = avg_m(dim_state_list, Nmc, Np1)\n",
    "    \n",
    "    \n",
    "    sim_kvals_3[k] = np.mean(np.array(fin_kvals_3))\n",
    "    sim_mvals_3[k] = np.mean(np.array(fin_mvals_3))\n",
    "    \n",
    "    t_prelim = time.time()\n",
    "    print(\"Temperature Run:\",str(k+1),\"; Current Time:\", round(t_prelim-t0,2),\"secs\")\n",
    "    \n",
    "\n",
    "t1 = time.time()\n",
    "print(\"Total Simulation Run Time:\",t1-t0,\"secs\")"
   ]
  },
  {
   "cell_type": "code",
   "execution_count": 22,
   "metadata": {},
   "outputs": [
    {
     "data": {
      "image/png": "[encoded data removed]",
      "text/plain": [
       "<Figure size 504x360 with 1 Axes>"
      ]
     },
     "metadata": {
      "needs_background": "light"
     },
     "output_type": "display_data"
    }
   ],
   "source": [
    "# Plot of simulation\n",
    "\n",
    "plt.figure(figsize = (7,5))\n",
    "\n",
    "# spectrum of temperature values\n",
    "temp_vals1 = np.linspace(Tmin, Tmax, 100)\n",
    "kvals = np.ones(len(temp_vals1))\n",
    "mvals = np.ones(len(temp_vals1))\n",
    "\n",
    "# plot of simulations\n",
    "plt.plot(temp_vals, np.array(sim_kvals_3)/Np1,'D', label = r'$\\langle k \\rangle/N$ (sim)',  markersize = 4.0, )\n",
    "plt.plot(temp_vals, np.array(sim_mvals_3)/Np1, 'D', label = r'$\\langle m \\rangle/N$ (sim)', markersize = 4.0, )\n",
    "\n",
    "# plot design options\n",
    "plt.xlabel(r'$k_B T$', fontsize = 20)\n",
    "ax = plt.gca()\n",
    "ax.set_ylim([0,1.05])\n",
    "ax.yaxis.set_label_coords(-0.1,.5)\n",
    "ax.xaxis.set_label_coords(.5,-.15)\n",
    "plt.tick_params(axis='both', which='major', labelsize=15)\n",
    "\n",
    "plt.legend(loc = 'best', fontsize = 17)\n",
    "\n",
    "warnings.simplefilter(\"ignore\")\n",
    "\n",
    "plt.show()"
   ]
  },
  {
   "cell_type": "markdown",
   "metadata": {},
   "source": [
    "## III. Solutions and Simulations Together "
   ]
  },
  {
   "cell_type": "markdown",
   "metadata": {},
   "source": [
    "#### Type I example"
   ]
  },
  {
   "cell_type": "code",
   "execution_count": 23,
   "metadata": {},
   "outputs": [
    {
     "data": {
      "image/png": "[encoded data removed]",
      "text/plain": [
       "<Figure size 504x360 with 1 Axes>"
      ]
     },
     "metadata": {
      "needs_background": "light"
     },
     "output_type": "display_data"
    },
    {
     "name": "stdout",
     "output_type": "stream",
     "text": [
      "kBT_I = 0.7352029642942484\n",
      "kBT_II = 1.248596635471849\n"
     ]
    }
   ],
   "source": [
    "## Plot of a <k> and <m> for a Type I dimer system\n",
    "\n",
    "plt.figure(figsize = (7,5))\n",
    "\n",
    "# physical parameters\n",
    "E0 =4.15\n",
    "Del =5.75\n",
    "Ev = 10**(-3)\n",
    "Nelem = 50\n",
    "\n",
    "# temperature limits\n",
    "Tmin = .055\n",
    "Tmax = 2.0\n",
    "\n",
    "# spectrum of temperature, k, and m values\n",
    "temp_vals = np.linspace(Tmin, Tmax, 100)\n",
    "kvals = np.ones(len(temp_vals))\n",
    "mvals = np.ones(len(temp_vals))\n",
    "\n",
    "for k in range(len(temp_vals)):\n",
    "    mvals[k], kvals[k]  = fsolve(myfunc, [.05, 1.0], args = (temp_vals[k], E0,Del, Ev, Nelem))\n",
    "\n",
    "# spectrum of temperature values; and k and m errors\n",
    "temp_vals_err = np.linspace(Tmin, Tmax, 15)\n",
    "kvals_err = np.ones(len(temp_vals_err))\n",
    "mvals_err = np.ones(len(temp_vals_err))\n",
    "\n",
    "for k in range(len(temp_vals_err)):\n",
    "    mvals_err[k], kvals_err[k]  = fsolve(myfunc, [.05, 1.0], args = (temp_vals_err[k], E0,Del, Ev, Nelem))\n",
    "    \n",
    "#plot of k and m versus T; error bars\n",
    "plt.errorbar(temp_vals_err[1:], mvals_err[1:]/Nelem, color = 'C1', fmt = '.', yerr = sigma_m(kvals_err[1:], mvals_err[1:], Nelem)/Nelem)\n",
    "plt.errorbar(temp_vals_err[1:], kvals_err[1:]/Nelem, color = 'C2', fmt = '.', yerr = sigma_k(kvals_err[1:], Nelem)/Nelem)\n",
    "\n",
    "# temperature for simulation results\n",
    "temp_vals0 = np.linspace(.055, 2.0, 15).tolist()\n",
    "\n",
    "# main plot and simulation\n",
    "plt.plot(temp_vals[2:], kvals[2:]/Nelem, color = 'C2', linestyle='solid', label = r'$\\langle k \\rangle/N$', linewidth = 3.0)\n",
    "plt.plot(temp_vals0, np.array(sim_kvals_1)/Np1,color = 'black', marker = 'o',\n",
    "         linestyle='None', label = r'$\\langle k \\rangle/N$ (sim)',\n",
    "         markersize = 7.0, alpha = 0.75)\n",
    "plt.plot(temp_vals[2:], mvals[2:]/Nelem, color = 'C1', linestyle='dotted', label = r'$\\langle m \\rangle/N$', linewidth = 3.0)\n",
    "plt.plot(temp_vals0, np.array(sim_mvals_1)/Np1, color = 'black', marker = 'x',\n",
    "         linestyle='None', label = r'$\\langle m \\rangle/N$ (sim)', \n",
    "         markersize = 14.0, alpha = 1.0)\n",
    "\n",
    "# plot of critical temperatures\n",
    "plt.axvline(x= kbT1(E0, Del, Ev, Nelem).real, color = 'blue', linestyle='-.', linewidth = 1.75)\n",
    "plt.axvline(x= kbT2(Del, Nelem), color = 'red', linestyle='solid', linewidth = 1.75)\n",
    "plt.axvline(x= fsolve(Temp_func_new, 0.2, args = (E0, Del, Ev, Nelem))[0], color = 'k', linestyle=':', linewidth = 3.75)\n",
    "\n",
    "\n",
    "# path design options\n",
    "plt.xlabel(r'$k_B T$', fontsize = 20)\n",
    "ax = plt.gca()\n",
    "ax.set_ylim([0,1.05])\n",
    "ax.yaxis.set_label_coords(-0.1,.5)\n",
    "ax.xaxis.set_label_coords(.5,-.15)\n",
    "\n",
    "plt.tick_params(axis='both', which='major', labelsize=15)\n",
    "plt.legend(bbox_to_anchor = (.37,0.51), fontsize = 14)\n",
    "\n",
    "warnings.simplefilter(\"ignore\")\n",
    "\n",
    "#plt.savefig(\"./typeIplot_wsim3.png\", bbox_inches='tight')\n",
    "\n",
    "plt.show()\n",
    "\n",
    "#temperatures T_I and T_II \n",
    "print(\"kBT_I =\", kbT1(E0, Del, Ev, Nelem).real)\n",
    "print(\"kBT_II =\",kbT2(Del, Nelem))"
   ]
  },
  {
   "cell_type": "markdown",
   "metadata": {},
   "source": [
    "------"
   ]
  },
  {
   "cell_type": "markdown",
   "metadata": {},
   "source": [
    "#### Type II example"
   ]
  },
  {
   "cell_type": "code",
   "execution_count": 24,
   "metadata": {},
   "outputs": [
    {
     "data": {
      "image/png": "[encoded data removed]",
      "text/plain": [
       "<Figure size 504x360 with 1 Axes>"
      ]
     },
     "metadata": {
      "needs_background": "light"
     },
     "output_type": "display_data"
    },
    {
     "name": "stdout",
     "output_type": "stream",
     "text": [
      "kBT_I = 1.2260437453743969\n",
      "kBT_II = 0.7491579812831094\n"
     ]
    }
   ],
   "source": [
    "## Plot of a <k> and <m> for a Type II dimer system\n",
    "\n",
    "plt.figure(figsize = (7,5))\n",
    "\n",
    "# physical parameters\n",
    "E0 =14.00\n",
    "Del = 3.45\n",
    "Ev = 0.001\n",
    "Nelem = 50\n",
    "\n",
    "# temperature limits\n",
    "Tmin = .055\n",
    "Tmax = 2.0\n",
    "\n",
    "\n",
    "# spectrum of temperature values\n",
    "temp_vals = np.linspace(Tmin, Tmax, 100)\n",
    "kvals = np.ones(len(temp_vals))\n",
    "mvals = np.ones(len(temp_vals))\n",
    "\n",
    "# generating valus of m and k\n",
    "for k in range(len(temp_vals)):\n",
    "    \n",
    "    mvals[k], kvals[k]  = fsolve(myfunc, [4.0, 4.0], args = (temp_vals[k], E0,Del, Ev, Nelem))\n",
    "\n",
    "\n",
    "# spectrum of temperature values; and k and m errors\n",
    "temp_vals_err = np.linspace(Tmin, Tmax, 15)\n",
    "kvals_err = np.ones(len(temp_vals_err))\n",
    "mvals_err = np.ones(len(temp_vals_err))\n",
    "\n",
    "for k in range(len(temp_vals_err)):\n",
    "    mvals_err[k], kvals_err[k]  = fsolve(myfunc, [.05, 1.0], args = (temp_vals_err[k], E0,Del, Ev, Nelem))\n",
    "\n",
    "#plot of k and m versus T; errors\n",
    "plt.errorbar(temp_vals_err[1:], mvals_err[1:]/Nelem, color = 'C1', fmt = '.', yerr = sigma_m(kvals_err[1:], mvals_err[1:], Nelem)/Nelem)\n",
    "plt.errorbar(temp_vals_err[1:], kvals_err[1:]/Nelem, color = 'C2', fmt = '.', yerr = sigma_k(kvals_err[1:], Nelem)/Nelem)\n",
    "\n",
    "# temperature for simulation results\n",
    "temp_vals0 = np.linspace(.055, 2.0, 15).tolist()\n",
    "\n",
    "# main plot and simulation\n",
    "plt.plot(temp_vals[2:], kvals[2:]/Nelem, color = 'C2', linestyle='solid', label = r'$\\langle k \\rangle/N$', linewidth = 3.0)\n",
    "plt.plot(temp_vals0, np.array(sim_kvals_2)/Np1,color = 'black', marker = 'o',\n",
    "         linestyle='None', label = r'$\\langle k \\rangle/N$ (sim)',\n",
    "         markersize = 7.0, alpha = 0.75)\n",
    "plt.plot(temp_vals[2:], mvals[2:]/Nelem, color = 'C1', linestyle='dotted', label = r'$\\langle m \\rangle/N$', linewidth = 3.0)\n",
    "plt.plot(temp_vals0, np.array(sim_mvals_2)/Np1, color = 'black', marker = 'x',\n",
    "         linestyle='None', label = r'$\\langle m \\rangle/N$ (sim)', \n",
    "         markersize = 14.0, alpha = 1.0)\n",
    "\n",
    "\n",
    "# plot of critical temperatures\n",
    "plt.axvline(x= kbT1(E0, Del, Ev, Nelem).real, color = 'blue', linestyle='-.', linewidth = 1.75)\n",
    "plt.axvline(x= kbT2(Del, Nelem), color = 'red', linestyle='solid', linewidth = 1.75)\n",
    "plt.axvline(x= fsolve(Temp_func_new, 0.2, args = (E0, Del, Ev, Nelem))[0], color = 'k', linestyle=':', linewidth = 3.75)\n",
    "\n",
    "\n",
    "# path design options\n",
    "plt.xlabel(r'$k_B T$', fontsize = 20)\n",
    "ax = plt.gca()\n",
    "ax.set_ylim([0,1.05])\n",
    "ax.yaxis.set_label_coords(-0.1,.5)\n",
    "ax.xaxis.set_label_coords(.5,-.15)\n",
    "\n",
    "plt.tick_params(axis='both', which='major', labelsize=15)\n",
    "plt.legend(bbox_to_anchor = (.37,.51), fontsize = 14)\n",
    "\n",
    "warnings.simplefilter(\"ignore\")\n",
    "\n",
    "#plt.savefig(\"./typeIIplot_wsim3.png\", bbox_inches='tight')\n",
    "\n",
    "plt.show()\n",
    "\n",
    "#temperatures T_I and T_II \n",
    "print(\"kBT_I =\", kbT1(E0, Del, Ev, Nelem).real)\n",
    "print(\"kBT_II =\",kbT2(Del, Nelem))"
   ]
  },
  {
   "cell_type": "markdown",
   "metadata": {},
   "source": [
    "------"
   ]
  },
  {
   "cell_type": "markdown",
   "metadata": {},
   "source": [
    "#### Indeterminate example"
   ]
  },
  {
   "cell_type": "code",
   "execution_count": 25,
   "metadata": {},
   "outputs": [
    {
     "data": {
      "image/png": "[encoded data removed]",
      "text/plain": [
       "<Figure size 504x360 with 1 Axes>"
      ]
     },
     "metadata": {
      "needs_background": "light"
     },
     "output_type": "display_data"
    },
    {
     "name": "stdout",
     "output_type": "stream",
     "text": [
      "kBT_I = 0.9852696789666392\n",
      "kBT_II = 1.0097346704250605\n"
     ]
    }
   ],
   "source": [
    "##  Plot of a <k> and <m> for system intermediate between Types I and II dimer system\n",
    "\n",
    "plt.figure(figsize = (7,5))\n",
    "\n",
    "# physical parameters\n",
    "E0 =9.05\n",
    "Del =4.65\n",
    "Ev = 10**(-3)\n",
    "Nelem = 50\n",
    "\n",
    "# temperature limits\n",
    "Tmin = .055\n",
    "Tmax = 2.0\n",
    "\n",
    "# spectrum of temperature values\n",
    "temp_vals = np.linspace(Tmin, Tmax, 100)\n",
    "kvals = np.ones(len(temp_vals))\n",
    "mvals = np.ones(len(temp_vals))\n",
    "\n",
    "# generating valus of m and k\n",
    "for k in range(len(temp_vals)):\n",
    "\n",
    "    mvals[k], kvals[k]  = fsolve(myfunc, [.5, 1.0], args = (temp_vals[k], E0,Del, Ev, Nelem))\n",
    "\n",
    "# spectrum of temperature values; and k and m errors\n",
    "temp_vals_err = np.linspace(Tmin, Tmax, 15)\n",
    "kvals_err = np.ones(len(temp_vals_err))\n",
    "mvals_err = np.ones(len(temp_vals_err))\n",
    "\n",
    "for k in range(len(temp_vals_err)):\n",
    "    mvals_err[k], kvals_err[k]  = fsolve(myfunc, [.05, 1.0], args = (temp_vals_err[k], E0,Del, Ev, Nelem))\n",
    "\n",
    "#plot of k and m versus T; errors\n",
    "plt.errorbar(temp_vals_err[1:], mvals_err[1:]/Nelem, color = 'C1', fmt = '.', yerr = sigma_m(kvals_err[1:], mvals_err[1:], Nelem)/Nelem)\n",
    "plt.errorbar(temp_vals_err[1:], kvals_err[1:]/Nelem, color = 'C2', fmt = '.', yerr = sigma_k(kvals_err[1:], Nelem)/Nelem)\n",
    "\n",
    "# temperature for simulation results\n",
    "temp_vals0 = np.linspace(.055, 2.0, 15).tolist()\n",
    "\n",
    "# main plot and simulation\n",
    "plt.plot(temp_vals[2:], kvals[2:]/Nelem, color = 'C2', linestyle='solid', label = r'$\\langle k \\rangle/N$', linewidth = 3.0)\n",
    "plt.plot(temp_vals0, np.array(sim_kvals_3)/Np1,color = 'black', marker = 'o',\n",
    "         linestyle='None', label = r'$\\langle k \\rangle/N$ (sim)',\n",
    "         markersize = 7.0, alpha = 0.75)\n",
    "plt.plot(temp_vals[2:], mvals[2:]/Nelem, color = 'C1', linestyle='dotted', label = r'$\\langle m \\rangle/N$', linewidth = 3.0)\n",
    "plt.plot(temp_vals0, np.array(sim_mvals_3)/Np1, color = 'black', marker = 'x',\n",
    "         linestyle='None', label = r'$\\langle m \\rangle/N$ (sim)', \n",
    "         markersize = 14.0, alpha = 1.0)\n",
    "\n",
    "\n",
    "plt.axvline(x= kbT1(E0, Del, Ev, Nelem).real, color = 'blue', linestyle='-.', linewidth = 1.75)\n",
    "plt.axvline(x= kbT2(Del, Nelem), color = 'red', linestyle='solid', linewidth = 1.75)\n",
    "plt.axvline(x= fsolve(Temp_func_new, 0.2, args = (E0, Del, Ev, Nelem))[0], color = 'k', linestyle=':', linewidth = 3.75)\n",
    "\n",
    "\n",
    "# path design options\n",
    "plt.xlabel(r'$k_B T$', fontsize = 20)\n",
    "ax = plt.gca()\n",
    "ax.set_ylim([0,1.05])\n",
    "ax.yaxis.set_label_coords(-0.1,.5)\n",
    "ax.xaxis.set_label_coords(.5,-.15)\n",
    "\n",
    "\n",
    "plt.tick_params(axis='both', which='major', labelsize=15)\n",
    "plt.legend(bbox_to_anchor = (.37,.51), fontsize = 14)\n",
    "\n",
    "warnings.simplefilter(\"ignore\")\n",
    "\n",
    "#plt.savefig(\"./typeIandIIplot_wsim3.png\", bbox_inches='tight')\n",
    "\n",
    "plt.show()\n",
    "\n",
    "#temperatures T_I and T_II \n",
    "print(\"kBT_I =\", kbT1(E0, Del, Ev, Nelem).real)\n",
    "print(\"kBT_II =\",kbT2(Del, Nelem))"
   ]
  },
  {
   "cell_type": "markdown",
   "metadata": {},
   "source": [
    "------"
   ]
  },
  {
   "cell_type": "code",
   "execution_count": 26,
   "metadata": {},
   "outputs": [
    {
     "name": "stdout",
     "output_type": "stream",
     "text": [
      "Elapsed Time: 31.905 min\n"
     ]
    }
   ],
   "source": [
    "print('Elapsed Time: %.3f min' % ((time.time()-start_clock)/60))"
   ]
  },
  {
   "cell_type": "code",
   "execution_count": null,
   "metadata": {},
   "outputs": [],
   "source": []
  }
 ],
 "metadata": {
  "kernelspec": {
   "display_name": "Python 3",
   "language": "python",
   "name": "python3"
  },
  "language_info": {
   "codemirror_mode": {
    "name": "ipython",
    "version": 3
   },
   "file_extension": ".py",
   "mimetype": "text/x-python",
   "name": "python",
   "nbconvert_exporter": "python",
   "pygments_lexer": "ipython3",
   "version": "3.8.5"
  }
 },
 "nbformat": 4,
 "nbformat_minor": 2
}
