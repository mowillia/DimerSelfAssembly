{
 "cells": [
  {
   "cell_type": "markdown",
   "metadata": {},
   "source": [
    "**Self-Assembly of a Dimer System -- Companion Notebook**\n",
    "\n",
    "# Degeneracy Factors for Self-Assembly\n",
    "\n",
    "In this notebook, we affirm various combinatorial results related to the self-assembly of dimer systems. We do so by generating various combinations of lists according to the constraints of a specific formula and then checking whether the number of elements in the generated combinations match the number of elements computed from the corresponding formula. \n",
    "\n",
    "Largely, we are considering generalizations of the following comparison:\n",
    "\n",
    "1. Using `itertools.permutations([1,2,3,4,5,6])` to compute the possible permutations of the list [1,2,3,4,5,6]\n",
    "\n",
    "2. Then comparing the number of permutations we find in 1), with the results of the formula $N! = N\\cdot(N-1)\\cdot(N-2) \\cdots 1$. \n",
    "\n",
    "We present the analytical formulas first."
   ]
  },
  {
   "cell_type": "code",
   "execution_count": 1,
   "metadata": {},
   "outputs": [],
   "source": [
    "%matplotlib inline\n",
    "import numpy as np\n",
    "import time\n",
    "import itertools\n",
    "\n",
    "from scipy.special import factorial, factorial2, comb\n",
    "\n",
    "# def factorial2(n):\n",
    "#     return float(factorial2(n, exact= True))\n",
    "\n",
    "# def factorial(n):\n",
    "#     return float(factorial(n, exact= True))\n",
    "\n",
    "factorial2_int = lambda n: factorial2(n, exact = True)\n",
    "factorial_int = lambda n: factorial(n, exact = True)\n",
    "\n",
    "start_clock = time.time()"
   ]
  },
  {
   "cell_type": "markdown",
   "metadata": {
    "collapsed": true
   },
   "source": [
    "### Analytical Formulas\n",
    "\n",
    "We will test the results of the following combinatorial formulas\n",
    "\n",
    "**I. Double factorial: All unique pairs**\n",
    "\n",
    "The number of ways to create a collection of pairings (consisting of $N$ pairs) out of a set of $2N$ elements is\n",
    "\n",
    "\\begin{equation}\n",
    "1\\cdot 3 \\cdots (N-3)\\cdot (N-1) = \\frac{(2N)!}{2^N N!} \\equiv (2N-1)!!.\n",
    "\\end{equation}\n",
    "\n",
    "\n",
    "**II. Completely deranged pairings**\n",
    "\n",
    "We initially pair $2N$ elements. The number of ways to form $N$ new pairs such that **no** pair coincides with any of the the original pairings is  \n",
    "\n",
    "\\begin{equation}\n",
    "c_{N} = \\sum_{j=0}^{N}(-1)^{j} \\binom{N}{j} (2N-2j-1)!!.\n",
    "\\end{equation}\n",
    "\n",
    "**III. Partially deranged pairings**\n",
    "\n",
    "We initially pair $2N$ elements. The number of ways to form $k\\leq N$ new pairs such that **no** pair coincides with any of the original pairings is \n",
    "\n",
    "\\begin{equation}\n",
    "a_{N, k} = \\sum_{j=0}^{N} (-1)^{j}\\binom{N}{j} \\binom{2N-2j}{2k-2j} (2k-2j-1)!!.\n",
    "\\end{equation}\n",
    "\n",
    "Comparing the above two equations, we see that $a_{N, N} = c_{N}$. \n",
    "\n",
    "**IV. Degeneracy factor**\n",
    "\n",
    "We initially pair $2N$ elements. The number of ways to form $k\\leq N$ new pairs such that precisely $m\\leq k$ pairs coincide with the original pairings is \n",
    "\n",
    "\\begin{equation}\n",
    "\\Omega_{N}(k, m) = \\binom{N}{m} a_{N-m, k-m},\n",
    "\\end{equation}\n",
    "\n",
    "where $a_{N,m}$ is defined above. "
   ]
  },
  {
   "cell_type": "code",
   "execution_count": 2,
   "metadata": {},
   "outputs": [],
   "source": [
    "### combinatorial formulas written in code\n",
    "\n",
    "\n",
    "## definition of number of completely deranged matchings\n",
    "def cfunc(N):\n",
    "    \n",
    "    sum0 = 0\n",
    "    \n",
    "    for j in range(N+1):\n",
    "        \n",
    "        sum0 = sum0 + (-1)**j*comb(N,j)*factorial2_int(2*N-2*j-1)\n",
    "        \n",
    "    return sum0\n",
    "\n",
    "\n",
    "## definition of number of partially deranged matchings\n",
    "def afunc(N, k):\n",
    "    \n",
    "    sum0 = 0\n",
    "    \n",
    "    for j in range(k+1):\n",
    "        \n",
    "        sum0 = sum0 + (-1)**j*comb(N,j)*comb(2*N-2*j, 2*k-2*j)*factorial2_int(2*k-2*j-1)\n",
    "        \n",
    "    return sum0\n",
    "\n",
    "## definition of degeneracy function\n",
    "def omega(N, k, m):\n",
    "    \n",
    "    return comb(N, m)*afunc(N-m, k-m)"
   ]
  },
  {
   "cell_type": "markdown",
   "metadata": {},
   "source": [
    "### Code Implementations \n",
    "\n",
    "We will now affirm the results of the above formulas by explicitly generating combinations according to the relevant constraints. We will consider the formulas in order. "
   ]
  },
  {
   "cell_type": "markdown",
   "metadata": {},
   "source": [
    "#### I. Double Factorial: All Unique Pairs \n",
    "\n",
    "Finding the number of ways to create unique pairs of a list of elements. "
   ]
  },
  {
   "cell_type": "code",
   "execution_count": 3,
   "metadata": {},
   "outputs": [],
   "source": [
    "''' \n",
    "Generates all unique pairs of a list\n",
    "\n",
    "taken from \"Shang\" in https://stackoverflow.com/questions/5360220/how-to-split-a-list-into-pairs-in-all-possible-ways\n",
    "\n",
    "'''\n",
    "\n",
    "def gen_all_pairs(lst):\n",
    "    '''Generator function for all pairs in a list\n",
    "    taken from \"Shang\" in https://stackoverflow.com/questions/5360220/how-to-split-a-list-into-pairs-in-all-possible-ways\n",
    "    \n",
    "    '''\n",
    "    \n",
    "    if len(lst) < 2:\n",
    "        yield lst\n",
    "        return\n",
    "    a = lst[0]\n",
    "    for i in range(1,len(lst)):\n",
    "        pair = (a,lst[i])\n",
    "        for rest in gen_all_pairs(lst[1:i]+lst[i+1:]):\n",
    "            yield [pair] + rest\n",
    "            \n",
    "def all_unique_pairs(twoN):\n",
    "    '''\n",
    "    Generates a list of integers from 1 to twoN and\n",
    "    creates all unique pairings of all twoN elements \n",
    "    \n",
    "    Does so by calling above generator function to\n",
    "    make a list of pairings'''\n",
    "    \n",
    "    nums_list = [int(elem) for elem in np.linspace(1,twoN,twoN)]\n",
    "    \n",
    "    return [x for x in gen_all_pairs(nums_list)]"
   ]
  },
  {
   "cell_type": "code",
   "execution_count": 4,
   "metadata": {},
   "outputs": [
    {
     "data": {
      "text/plain": [
       "[[(1, 2), (3, 4), (5, 6), (7, 8), (9, 10)],\n",
       " [(1, 2), (3, 4), (5, 6), (7, 9), (8, 10)],\n",
       " [(1, 2), (3, 4), (5, 6), (7, 10), (8, 9)],\n",
       " [(1, 2), (3, 4), (5, 7), (6, 8), (9, 10)],\n",
       " [(1, 2), (3, 4), (5, 7), (6, 9), (8, 10)],\n",
       " [(1, 2), (3, 4), (5, 7), (6, 10), (8, 9)],\n",
       " [(1, 2), (3, 4), (5, 8), (6, 7), (9, 10)],\n",
       " [(1, 2), (3, 4), (5, 8), (6, 9), (7, 10)],\n",
       " [(1, 2), (3, 4), (5, 8), (6, 10), (7, 9)],\n",
       " [(1, 2), (3, 4), (5, 9), (6, 7), (8, 10)]]"
      ]
     },
     "execution_count": 4,
     "metadata": {},
     "output_type": "execute_result"
    }
   ],
   "source": [
    "## example implementation\n",
    "\n",
    "all_unique_pairs(twoN = 10)[:10]"
   ]
  },
  {
   "cell_type": "code",
   "execution_count": 5,
   "metadata": {},
   "outputs": [
    {
     "name": "stdout",
     "output_type": "stream",
     "text": [
      "Number of ways to pair 0 integers: 1\n",
      "Consistent? True\n",
      "***\n",
      "Number of ways to pair 2 integers: 1\n",
      "Consistent? True\n",
      "***\n",
      "Number of ways to pair 4 integers: 3\n",
      "Consistent? True\n",
      "***\n",
      "Number of ways to pair 6 integers: 15\n",
      "Consistent? True\n",
      "***\n",
      "Number of ways to pair 8 integers: 105\n",
      "Consistent? True\n",
      "***\n",
      "Number of ways to pair 10 integers: 945\n",
      "Consistent? True\n",
      "***\n",
      "Number of ways to pair 12 integers: 10395\n",
      "Consistent? True\n",
      "***\n",
      "Number of ways to pair 14 integers: 135135\n",
      "Consistent? True\n",
      "***\n"
     ]
    }
   ],
   "source": [
    "## Checking consistency with double factorial formula \n",
    "\n",
    "for k in range(8):\n",
    "    print(\"Number of ways to pair\", 2*k, \"integers:\",factorial2_int(2*k-1) )\n",
    "    print(\"Consistent?\",len(all_unique_pairs(2*k))== factorial2_int(2*k-1))\n",
    "    print(\"***\")"
   ]
  },
  {
   "cell_type": "markdown",
   "metadata": {},
   "source": [
    "#### II. Completely Deranged Pairings\n",
    "\n",
    "Finding the number of ways to create completely deranged pairings (i.e., pairings different from original pairings) from a list of elements"
   ]
  },
  {
   "cell_type": "code",
   "execution_count": 6,
   "metadata": {},
   "outputs": [],
   "source": [
    "\n",
    "def derang_match(twoN):\n",
    "    '''Generates completely deranged pairings of twoN integers\n",
    "    which were initially arranged into pairs'''\n",
    "\n",
    "    #list of elements\n",
    "    nums_list = [int(elem) for elem in np.linspace(1,twoN,twoN)]\n",
    "\n",
    "    orig_pair = [0]*(int(twoN/2))\n",
    "    for k in range(int(twoN/2)):\n",
    "        \n",
    "        #creates list of pairings constituting \"original pairings\"\n",
    "        orig_pair[k] = (nums_list[2*k], nums_list[2*k+1])\n",
    "        \n",
    "    \n",
    "    #list of all possible pairings\n",
    "    match_list = all_unique_pairs(twoN)[:]\n",
    "    \n",
    "    # duplicate list prior to removal\n",
    "    derang_match = match_list[:]\n",
    "    \n",
    "    for k in range(len(match_list)):\n",
    "        if any(i in match_list[k] for i in orig_pair) == True:\n",
    "            # removes any pairing found in original pairing\n",
    "            derang_match.remove(match_list[k])\n",
    "\n",
    "    return derang_match"
   ]
  },
  {
   "cell_type": "code",
   "execution_count": 7,
   "metadata": {},
   "outputs": [
    {
     "data": {
      "text/plain": [
       "[[(1, 3), (2, 4), (5, 7), (6, 9), (8, 10)],\n",
       " [(1, 3), (2, 4), (5, 7), (6, 10), (8, 9)],\n",
       " [(1, 3), (2, 4), (5, 8), (6, 9), (7, 10)],\n",
       " [(1, 3), (2, 4), (5, 8), (6, 10), (7, 9)],\n",
       " [(1, 3), (2, 4), (5, 9), (6, 7), (8, 10)],\n",
       " [(1, 3), (2, 4), (5, 9), (6, 8), (7, 10)],\n",
       " [(1, 3), (2, 4), (5, 10), (6, 7), (8, 9)],\n",
       " [(1, 3), (2, 4), (5, 10), (6, 8), (7, 9)],\n",
       " [(1, 3), (2, 5), (4, 6), (7, 9), (8, 10)],\n",
       " [(1, 3), (2, 5), (4, 6), (7, 10), (8, 9)]]"
      ]
     },
     "execution_count": 7,
     "metadata": {},
     "output_type": "execute_result"
    }
   ],
   "source": [
    "## example implementation\n",
    "\n",
    "## we note that there are no original pairings \n",
    "\n",
    "derang_match(twoN = 10)[:10]"
   ]
  },
  {
   "cell_type": "code",
   "execution_count": 8,
   "metadata": {},
   "outputs": [
    {
     "name": "stdout",
     "output_type": "stream",
     "text": [
      "Number of completely deranged pairings of 0 integers:  1.0\n",
      "Consistent?  True\n",
      "***\n",
      "Number of completely deranged pairings of 2 integers:  0.0\n",
      "Consistent?  True\n",
      "***\n",
      "Number of completely deranged pairings of 4 integers:  2.0\n",
      "Consistent?  True\n",
      "***\n",
      "Number of completely deranged pairings of 6 integers:  8.0\n",
      "Consistent?  True\n",
      "***\n",
      "Number of completely deranged pairings of 8 integers:  60.0\n",
      "Consistent?  True\n",
      "***\n",
      "Number of completely deranged pairings of 10 integers:  544.0\n",
      "Consistent?  True\n",
      "***\n"
     ]
    }
   ],
   "source": [
    "# checking consistency with completely deranged formula \n",
    "\n",
    "for i in range(6):\n",
    "    print(\"Number of completely deranged pairings of\", 2*i, \"integers: \", cfunc(i))\n",
    "    print(\"Consistent? \",len(derang_match(2*i))== cfunc(i))\n",
    "    print(\"***\")"
   ]
  },
  {
   "cell_type": "markdown",
   "metadata": {},
   "source": [
    "#### III. Partially Deranged Matchings\n",
    "\n",
    "Finding the number of ways to create $k$ new pairs from $2N$ initially paired elements such that none of these new pairs coincide with any of the original pairings. "
   ]
  },
  {
   "cell_type": "code",
   "execution_count": 9,
   "metadata": {},
   "outputs": [],
   "source": [
    "def perm_noredun_for_k(N, twok):\n",
    "    \n",
    "    nums_list  = [int(elem) for elem in np.linspace(1,N,N)]\n",
    "    \n",
    "    return [x for x in all_pairs_for_k(nums_list,twok)]\n",
    "\n",
    "def gen_all_pairs_for_k(lst0, twok):\n",
    "    '''Generator function for all pairs in a list\n",
    "    taken from \"Shang\" in https://stackoverflow.com/questions/\n",
    "    5360220/how-to-split-a-list-into-pairs-in-all-possible-ways\n",
    "    \n",
    "    '''\n",
    "    \n",
    "    lst_all = [list(elem) for elem in itertools.combinations(lst0, twok)]\n",
    "    \n",
    "    for lst in lst_all:    \n",
    "        if len(lst) < 2:\n",
    "            yield lst\n",
    "            return\n",
    "        a = lst[0]\n",
    "        for i in range(1,len(lst)):\n",
    "            pair = (a,lst[i])\n",
    "            for rest in gen_all_pairs(lst[1:i]+lst[i+1:]):\n",
    "                yield [pair] + rest\n",
    "                     \n",
    "def all_unique_pairs_for_k(twoN,twok):\n",
    "    '''\n",
    "    Generates a list of integers from 1 to twoN and\n",
    "    creates all unique pairings of all twoN elements \n",
    "    \n",
    "    Does so by calling above generator function to\n",
    "    make a list of pairings'''\n",
    "    \n",
    "    nums_list = [int(elem) for elem in np.linspace(1,twoN,twoN)]\n",
    "    \n",
    "    return [x for x in gen_all_pairs_for_k(nums_list,twok)]\n",
    "\n",
    "\n",
    "def partial_derang_match(twoN,twok):\n",
    "    '''Generates k = twok/2 partially deranged pairings of twoN integers\n",
    "    which were initially arranged into pairs'''\n",
    "        \n",
    "    #list of elements\n",
    "    nums_list = [int(elem) for elem in np.linspace(1,twoN,twoN)]\n",
    "\n",
    "    orig_pair = [0]*(int(twoN/2))\n",
    "    for p in range(int(twoN/2)):\n",
    "        \n",
    "        #creates list of pairings constituting \"original pairings\"\n",
    "        orig_pair[p] = (nums_list[2*p], nums_list[2*p+1])\n",
    "\n",
    "    match_list = all_unique_pairs_for_k(twoN,twok)[:]\n",
    "    \n",
    "    derang_match = match_list[:]\n",
    "    \n",
    "    for j in range(len(match_list)):\n",
    "        if any(i in match_list[j] for i in orig_pair) == True:\n",
    "            derang_match.remove(match_list[j])\n",
    "\n",
    "    return derang_match"
   ]
  },
  {
   "cell_type": "code",
   "execution_count": 10,
   "metadata": {},
   "outputs": [
    {
     "data": {
      "text/plain": [
       "[[(1, 3), (2, 4), (5, 7), (6, 8)],\n",
       " [(1, 3), (2, 4), (5, 8), (6, 7)],\n",
       " [(1, 3), (2, 5), (4, 7), (6, 8)],\n",
       " [(1, 3), (2, 5), (4, 8), (6, 7)],\n",
       " [(1, 3), (2, 6), (4, 7), (5, 8)],\n",
       " [(1, 3), (2, 6), (4, 8), (5, 7)],\n",
       " [(1, 3), (2, 7), (4, 5), (6, 8)],\n",
       " [(1, 3), (2, 7), (4, 6), (5, 8)],\n",
       " [(1, 3), (2, 8), (4, 5), (6, 7)],\n",
       " [(1, 3), (2, 8), (4, 6), (5, 7)]]"
      ]
     },
     "execution_count": 10,
     "metadata": {},
     "output_type": "execute_result"
    }
   ],
   "source": [
    "## example implementation\n",
    "\n",
    "## we note that there four pairs and no original pairings \n",
    "\n",
    "partial_derang_match(twoN = 10, twok = 8)[:10]"
   ]
  },
  {
   "cell_type": "code",
   "execution_count": 11,
   "metadata": {},
   "outputs": [
    {
     "name": "stdout",
     "output_type": "stream",
     "text": [
      "-------\n",
      "Number of partially deranged pairings of 2 integers into 0 pairs: 1.0\n",
      "Consistent? True\n",
      "***\n",
      "-------\n",
      "Number of partially deranged pairings of 4 integers into 0 pairs: 1.0\n",
      "Consistent? True\n",
      "***\n",
      "Number of partially deranged pairings of 4 integers into 1 pairs: 4.0\n",
      "Consistent? True\n",
      "***\n",
      "-------\n",
      "Number of partially deranged pairings of 6 integers into 0 pairs: 1.0\n",
      "Consistent? True\n",
      "***\n",
      "Number of partially deranged pairings of 6 integers into 1 pairs: 12.0\n",
      "Consistent? True\n",
      "***\n",
      "Number of partially deranged pairings of 6 integers into 2 pairs: 30.0\n",
      "Consistent? True\n",
      "***\n",
      "-------\n",
      "Number of partially deranged pairings of 8 integers into 0 pairs: 1.0\n",
      "Consistent? True\n",
      "***\n",
      "Number of partially deranged pairings of 8 integers into 1 pairs: 24.0\n",
      "Consistent? True\n",
      "***\n",
      "Number of partially deranged pairings of 8 integers into 2 pairs: 156.0\n",
      "Consistent? True\n",
      "***\n",
      "Number of partially deranged pairings of 8 integers into 3 pairs: 272.0\n",
      "Consistent? True\n",
      "***\n",
      "-------\n",
      "Number of partially deranged pairings of 10 integers into 0 pairs: 1.0\n",
      "Consistent? True\n",
      "***\n",
      "Number of partially deranged pairings of 10 integers into 1 pairs: 40.0\n",
      "Consistent? True\n",
      "***\n",
      "Number of partially deranged pairings of 10 integers into 2 pairs: 500.0\n",
      "Consistent? True\n",
      "***\n",
      "Number of partially deranged pairings of 10 integers into 3 pairs: 2240.0\n",
      "Consistent? True\n",
      "***\n",
      "Number of partially deranged pairings of 10 integers into 4 pairs: 3020.0\n",
      "Consistent? True\n",
      "***\n",
      "-------\n"
     ]
    }
   ],
   "source": [
    "### checking consistency for partially deranged pairings formula\n",
    "\n",
    "for n in range(6):\n",
    "    for k in range(n):\n",
    "        print(\"Number of partially deranged pairings of\",2*n, \"integers into\", k, \"pairs:\", afunc(n,k))\n",
    "        print(\"Consistent?\", len(partial_derang_match(twoN = 2*n, twok = 2*k))== afunc(n,k))\n",
    "        print(\"***\")\n",
    "    print(\"-------\")"
   ]
  },
  {
   "cell_type": "markdown",
   "metadata": {},
   "source": [
    "#### IV. Degeneracy Formula \n",
    "\n",
    "Finding the number of ways to form $k$ pairs out of $2N$ initially paired elements such that $m$ of these pairs consist of original pairs"
   ]
  },
  {
   "cell_type": "code",
   "execution_count": 12,
   "metadata": {},
   "outputs": [],
   "source": [
    "\n",
    "def degeneracy(twoN,twok, m):\n",
    "    '''Given twoN originally pairied integers, \n",
    "    generates all possible new pairings of twok integers where m\n",
    "    of these pairings coincide with the original pairings.'''\n",
    "    \n",
    "    #list of elements\n",
    "    nums_list = [int(elem) for elem in np.linspace(1,twoN,twoN)]\n",
    "\n",
    "    orig_pair = [0]*(int(twoN/2))\n",
    "    for p in range(int(twoN/2)):\n",
    "        \n",
    "        #creates list of pairings constituting \"original pairings\"\n",
    "        orig_pair[p] = (nums_list[2*p], nums_list[2*p+1])\n",
    "\n",
    "    match_list = all_unique_pairs_for_k(twoN,twok)[:]\n",
    "    \n",
    "    degeneracy = match_list[:]\n",
    "    \n",
    "    for j in range(len(match_list)):\n",
    "        if len(set(orig_pair).intersection(match_list[j])) != m :\n",
    "            \n",
    "            # removes all elements which don't have m pairs\n",
    "            degeneracy.remove(match_list[j])\n",
    "\n",
    "    return degeneracy"
   ]
  },
  {
   "cell_type": "code",
   "execution_count": 13,
   "metadata": {},
   "outputs": [
    {
     "data": {
      "text/plain": [
       "[[(1, 2), (3, 4), (5, 7), (6, 8)],\n",
       " [(1, 2), (3, 4), (5, 8), (6, 7)],\n",
       " [(1, 2), (3, 5), (4, 6), (7, 8)],\n",
       " [(1, 2), (3, 6), (4, 5), (7, 8)],\n",
       " [(1, 2), (3, 7), (4, 8), (5, 6)],\n",
       " [(1, 2), (3, 8), (4, 7), (5, 6)],\n",
       " [(1, 3), (2, 4), (5, 6), (7, 8)],\n",
       " [(1, 4), (2, 3), (5, 6), (7, 8)],\n",
       " [(1, 5), (2, 6), (3, 4), (7, 8)],\n",
       " [(1, 6), (2, 5), (3, 4), (7, 8)]]"
      ]
     },
     "execution_count": 13,
     "metadata": {},
     "output_type": "execute_result"
    }
   ],
   "source": [
    "## example implementation\n",
    "\n",
    "degeneracy(twoN = 10, twok = 8, m=2)[:10]"
   ]
  },
  {
   "cell_type": "code",
   "execution_count": 14,
   "metadata": {},
   "outputs": [
    {
     "name": "stdout",
     "output_type": "stream",
     "text": [
      "Degeneracy factor for N = 2 , k = 1 and m = 0 : 4.0\n",
      "Consistent? True\n",
      "***\n",
      "Degeneracy factor for N = 3 , k = 1 and m = 0 : 12.0\n",
      "Consistent? True\n",
      "***\n",
      "Degeneracy factor for N = 3 , k = 2 and m = 0 : 30.0\n",
      "Consistent? True\n",
      "***\n",
      "Degeneracy factor for N = 3 , k = 2 and m = 1 : 12.0\n",
      "Consistent? True\n",
      "***\n",
      "Degeneracy factor for N = 4 , k = 1 and m = 0 : 24.0\n",
      "Consistent? True\n",
      "***\n",
      "Degeneracy factor for N = 4 , k = 2 and m = 0 : 156.0\n",
      "Consistent? True\n",
      "***\n",
      "Degeneracy factor for N = 4 , k = 2 and m = 1 : 48.0\n",
      "Consistent? True\n",
      "***\n",
      "Degeneracy factor for N = 4 , k = 3 and m = 0 : 272.0\n",
      "Consistent? True\n",
      "***\n",
      "Degeneracy factor for N = 4 , k = 3 and m = 1 : 120.0\n",
      "Consistent? True\n",
      "***\n",
      "Degeneracy factor for N = 4 , k = 3 and m = 2 : 24.0\n",
      "Consistent? True\n",
      "***\n",
      "Degeneracy factor for N = 5 , k = 1 and m = 0 : 40.0\n",
      "Consistent? True\n",
      "***\n",
      "Degeneracy factor for N = 5 , k = 2 and m = 0 : 500.0\n",
      "Consistent? True\n",
      "***\n",
      "Degeneracy factor for N = 5 , k = 2 and m = 1 : 120.0\n",
      "Consistent? True\n",
      "***\n",
      "Degeneracy factor for N = 5 , k = 3 and m = 0 : 2240.0\n",
      "Consistent? True\n",
      "***\n",
      "Degeneracy factor for N = 5 , k = 3 and m = 1 : 780.0\n",
      "Consistent? True\n",
      "***\n",
      "Degeneracy factor for N = 5 , k = 3 and m = 2 : 120.0\n",
      "Consistent? True\n",
      "***\n",
      "Degeneracy factor for N = 5 , k = 4 and m = 0 : 3020.0\n",
      "Consistent? True\n",
      "***\n",
      "Degeneracy factor for N = 5 , k = 4 and m = 1 : 1360.0\n",
      "Consistent? True\n",
      "***\n",
      "Degeneracy factor for N = 5 , k = 4 and m = 2 : 300.0\n",
      "Consistent? True\n",
      "***\n",
      "Degeneracy factor for N = 5 , k = 4 and m = 3 : 40.0\n",
      "Consistent? True\n",
      "***\n"
     ]
    }
   ],
   "source": [
    "## checking consistency with derived value of omega\n",
    "\n",
    "### checking consistency for partially deranged matchings formula\n",
    "\n",
    "for n in range(6):\n",
    "    for k in range(n):\n",
    "        for m1 in range(k):\n",
    "            print(\"Degeneracy factor for N =\", n, \", k =\",k,\"and m =\", m1,\":\", omega(n, k, m1))\n",
    "            print(\"Consistent?\", len(degeneracy(twoN = 2*n, twok = 2*k, m = m1))== omega(n,k,m1))\n",
    "            print(\"***\")\n",
    "        #print(\"-------\")\n",
    "    #print(\"^^^^^^^^^\")"
   ]
  },
  {
   "cell_type": "code",
   "execution_count": 15,
   "metadata": {},
   "outputs": [
    {
     "name": "stdout",
     "output_type": "stream",
     "text": [
      "Elapsed Time: 1.491 sec\n"
     ]
    }
   ],
   "source": [
    "print('Elapsed Time: %.3f sec' % (time.time()-start_clock))"
   ]
  },
  {
   "cell_type": "markdown",
   "metadata": {},
   "source": [
    "----------------"
   ]
  }
 ],
 "metadata": {
  "kernelspec": {
   "display_name": "Python 3",
   "language": "python",
   "name": "python3"
  },
  "language_info": {
   "codemirror_mode": {
    "name": "ipython",
    "version": 3
   },
   "file_extension": ".py",
   "mimetype": "text/x-python",
   "name": "python",
   "nbconvert_exporter": "python",
   "pygments_lexer": "ipython3",
   "version": "3.8.5"
  }
 },
 "nbformat": 4,
 "nbformat_minor": 2
}
